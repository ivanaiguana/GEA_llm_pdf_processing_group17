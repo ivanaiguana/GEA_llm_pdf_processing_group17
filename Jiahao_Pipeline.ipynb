{
 "cells": [
  {
   "cell_type": "code",
   "execution_count": 21,
   "id": "1102fb46",
   "metadata": {},
   "outputs": [],
   "source": [
    "import fitz  \n",
    "from PIL import Image\n",
    "import pytesseract\n",
    "import io\n",
    "pytesseract.pytesseract.tesseract_cmd = r\"C:\\Program Files\\Tesseract-OCR\\tesseract.exe\""
   ]
  },
  {
   "cell_type": "code",
   "execution_count": 23,
   "id": "007e4ee8",
   "metadata": {},
   "outputs": [],
   "source": [
    "from Jiahao.sort_toc_line import sort_toc_lines\n",
    "from Jiahao.index_finder import extract_toc_pages\n",
    "from Jiahao.toc_filter import is_valid_toc_line"
   ]
  },
  {
   "cell_type": "code",
   "execution_count": 24,
   "id": "70e71fdd",
   "metadata": {},
   "outputs": [
    {
     "ename": "NameError",
     "evalue": "name 'fitz' is not defined",
     "output_type": "error",
     "traceback": [
      "\u001b[31m---------------------------------------------------------------------------\u001b[39m",
      "\u001b[31mNameError\u001b[39m                                 Traceback (most recent call last)",
      "\u001b[36mCell\u001b[39m\u001b[36m \u001b[39m\u001b[32mIn[24]\u001b[39m\u001b[32m, line 1\u001b[39m\n\u001b[32m----> \u001b[39m\u001b[32m1\u001b[39m index_name = \u001b[43mextract_toc_pages\u001b[49m\u001b[43m(\u001b[49m\u001b[33;43m\"\u001b[39;49m\u001b[33;43mExtrahiertVig05.pdf\u001b[39;49m\u001b[33;43m\"\u001b[39;49m\u001b[43m)\u001b[49m\n\u001b[32m      2\u001b[39m index_line = sort_toc_line(index_name)\n\u001b[32m      3\u001b[39m \u001b[38;5;28mprint\u001b[39m(index_name)\n",
      "\u001b[36mFile \u001b[39m\u001b[32mc:\\Users\\j7843\\Documents\\DAIA\\GEA_llm_pdf_processing_group17\\Jiahao\\index_finder.py:2\u001b[39m, in \u001b[36mextract_toc_pages\u001b[39m\u001b[34m(pdf_path, lang)\u001b[39m\n\u001b[32m      1\u001b[39m \u001b[38;5;28;01mdef\u001b[39;00m\u001b[38;5;250m \u001b[39m\u001b[34mextract_toc_pages\u001b[39m(pdf_path, lang=\u001b[33m'\u001b[39m\u001b[33mdeu\u001b[39m\u001b[33m'\u001b[39m):\n\u001b[32m----> \u001b[39m\u001b[32m2\u001b[39m     doc = \u001b[43mfitz\u001b[49m.open(pdf_path)  \u001b[38;5;66;03m# Open PDF file\u001b[39;00m\n\u001b[32m      3\u001b[39m     toc_pages = {}\n\u001b[32m      5\u001b[39m     \u001b[38;5;28;01mfor\u001b[39;00m page_num \u001b[38;5;129;01min\u001b[39;00m \u001b[38;5;28mrange\u001b[39m(\u001b[38;5;28mlen\u001b[39m(doc)):\n",
      "\u001b[31mNameError\u001b[39m: name 'fitz' is not defined"
     ]
    }
   ],
   "source": [
    "index_name = extract_toc_pages(\"ExtrahiertVig05.pdf\")\n",
    "index_line = sort_toc_line(index_name)\n",
    "print(index_name)\n",
    "print(index_line)"
   ]
  },
  {
   "cell_type": "code",
   "execution_count": null,
   "id": "fc475e4f",
   "metadata": {},
   "outputs": [
    {
     "name": "stdout",
     "output_type": "stream",
     "text": [
      "--- Page 12 contains 'Inhaltsverzeichnis' ---\n",
      "Anwenderhandbuch GRA3SSü lLKAB\n",
      "SEP Refigertion Eguipment FON\n",
      "\n",
      "Schraubenverdichteraggregat Aefgeration Equipment\n",
      "mit horizontalem Ölabscheider und dem Verdichter F\n",
      "\n",
      "Inhaltsverzeichnis\n",
      "\n",
      "1. BESCHREIBUNG 3.1. Allgemeines\n",
      "\n",
      "3.2. Wartung der Hauptbauteile\n",
      "\n",
      "1.1. Konstruktiver Aufbau\n",
      "\n",
      "3.3. Wartungsübersicht\n",
      "1.2. Arbeitsweise\n",
      "\n",
      "3.4. Ölwechsel\n",
      "1.3. Leistungsverstellung\n",
      "\n",
      "ANLAGEN MIT SACHNUMMER\n",
      "1.4. Verstellung des inneren 629537. :19321\n",
      "63 Volumenverhältnisses Vi “\n",
      "\n",
      "1.5. Überwachungseinrichtungen Kälteschema Anlage 1\n",
      "1.6. Sicherheitseinrichtungen Übersichtszeichnung SVA FA Anlage 2\n",
      "\n",
      "1.7. Aggregataufstellung Übersichtszeichnung SVA FH Anlage 3\n",
      "\n",
      "2. BEDIENUNGSHINWEISE\n",
      "\n",
      "2.1. Grundsätzliches\n",
      "\n",
      "& 2.2. Erste Inbetriebnahme\n",
      "2.3. Betrieb des Verdichteraggregates\n",
      "2.4. Normale Inbetriebsetzung\n",
      "2.5. Regelung der Verdichterleistung\n",
      "2.6. Normale Außerbetriebsetzung\n",
      "\n",
      "2.7. Außerbetriebsetzung für einen längeren\n",
      "Zeitraum\n",
      "\n",
      "3. WARTUNGSANWEISUNG\n",
      "\n",
      "AFD Spänich 629537.DOC\n",
      "(Ausgabe/ edition 20.02.95) Revision 0\n",
      "\n",
      "KÜHLAUTOMAT Berlin GmbH KAB\n",
      "\n",
      "P 1.8. Hinweis\n",
      "\n",
      "\n",
      "\n"
     ]
    }
   ],
   "source": [
    "\n",
    "\n",
    "\n",
    "lines = [line.strip() for line in text.splitlines() if line.strip()]\n",
    "valid_lines = [line for line in lines if is_valid_toc_line(line)]\n",
    "sorted_lines = sort_toc_lines(valid_lines)\n",
    "\n",
    "if sorted_lines:\n",
    "    toc_pages[page_num + 1] = sorted_lines  # +1 for human-friendly page number\n",
    "\n",
    "\n",
    "for page, entries in toc_pages.items():\n",
    "    print(f\"\\n--- TOC found on page {page} ---\")\n",
    "    for entry in entries:\n",
    "        print(entry)"
   ]
  }
 ],
 "metadata": {
  "kernelspec": {
   "display_name": ".venv",
   "language": "python",
   "name": "python3"
  },
  "language_info": {
   "codemirror_mode": {
    "name": "ipython",
    "version": 3
   },
   "file_extension": ".py",
   "mimetype": "text/x-python",
   "name": "python",
   "nbconvert_exporter": "python",
   "pygments_lexer": "ipython3",
   "version": "3.12.7"
  }
 },
 "nbformat": 4,
 "nbformat_minor": 5
}
