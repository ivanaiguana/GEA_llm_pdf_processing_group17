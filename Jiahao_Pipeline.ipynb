{
 "cells": [
  {
   "cell_type": "code",
   "execution_count": 2,
   "id": "1102fb46",
   "metadata": {},
   "outputs": [],
   "source": [
    "import fitz  \n",
    "from PIL import Image\n",
    "import pytesseract\n",
    "import io\n",
    "import re\n",
    "pytesseract.pytesseract.tesseract_cmd = r\"C:\\Program Files\\Tesseract-OCR\\tesseract.exe\""
   ]
  },
  {
   "cell_type": "code",
   "execution_count": 16,
   "id": "007e4ee8",
   "metadata": {},
   "outputs": [
    {
     "ename": "ImportError",
     "evalue": "cannot import name 'separate_on_number' from 'Jiahao.sort_toc_line' (c:\\Users\\j7843\\Documents\\DAIA\\GEA_llm_pdf_processing_group17\\Jiahao\\sort_toc_line.py)",
     "output_type": "error",
     "traceback": [
      "\u001b[31m---------------------------------------------------------------------------\u001b[39m",
      "\u001b[31mImportError\u001b[39m                               Traceback (most recent call last)",
      "\u001b[36mCell\u001b[39m\u001b[36m \u001b[39m\u001b[32mIn[16]\u001b[39m\u001b[32m, line 4\u001b[39m\n\u001b[32m      2\u001b[39m \u001b[38;5;28;01mfrom\u001b[39;00m\u001b[38;5;250m \u001b[39m\u001b[34;01mJiahao\u001b[39;00m\u001b[34;01m.\u001b[39;00m\u001b[34;01mindex_finder\u001b[39;00m\u001b[38;5;250m \u001b[39m\u001b[38;5;28;01mimport\u001b[39;00m extract_toc_pages\n\u001b[32m      3\u001b[39m \u001b[38;5;28;01mfrom\u001b[39;00m\u001b[38;5;250m \u001b[39m\u001b[34;01mJiahao\u001b[39;00m\u001b[34;01m.\u001b[39;00m\u001b[34;01mtoc_filter\u001b[39;00m\u001b[38;5;250m \u001b[39m\u001b[38;5;28;01mimport\u001b[39;00m is_valid_toc_line\n\u001b[32m----> \u001b[39m\u001b[32m4\u001b[39m \u001b[38;5;28;01mfrom\u001b[39;00m\u001b[38;5;250m \u001b[39m\u001b[34;01mJiahao\u001b[39;00m\u001b[34;01m.\u001b[39;00m\u001b[34;01msort_toc_line\u001b[39;00m\u001b[38;5;250m \u001b[39m\u001b[38;5;28;01mimport\u001b[39;00m separate_on_number\n",
      "\u001b[31mImportError\u001b[39m: cannot import name 'separate_on_number' from 'Jiahao.sort_toc_line' (c:\\Users\\j7843\\Documents\\DAIA\\GEA_llm_pdf_processing_group17\\Jiahao\\sort_toc_line.py)"
     ]
    }
   ],
   "source": [
    "from Jiahao.sort_toc_line import sort_toc_lines\n",
    "from Jiahao.index_finder import extract_toc_pages\n",
    "from Jiahao.toc_filter import is_valid_toc_line\n",
    "from Jiahao.sort_toc_line import separate_on_number"
   ]
  },
  {
   "cell_type": "code",
   "execution_count": 15,
   "id": "e28b3513",
   "metadata": {},
   "outputs": [
    {
     "ename": "KeyboardInterrupt",
     "evalue": "",
     "output_type": "error",
     "traceback": [
      "\u001b[31m---------------------------------------------------------------------------\u001b[39m",
      "\u001b[31mKeyboardInterrupt\u001b[39m                         Traceback (most recent call last)",
      "\u001b[32m~\\AppData\\Local\\Temp\\ipykernel_2880\\1408920097.py\u001b[39m in \u001b[36m?\u001b[39m\u001b[34m()\u001b[39m\n\u001b[32m     11\u001b[39m         \u001b[38;5;28;01mif\u001b[39;00m \u001b[33m\"inhaltsverzeichnis\"\u001b[39m \u001b[38;5;28;01min\u001b[39;00m text.lower():\n\u001b[32m     12\u001b[39m             \u001b[38;5;66;03m#toc_pages[page_num + 1] = text  # store text with human-friendly page number\u001b[39;00m\n\u001b[32m     13\u001b[39m             \u001b[38;5;28;01mreturn\u001b[39;00m text\n\u001b[32m     14\u001b[39m \n\u001b[32m---> \u001b[39m\u001b[32m15\u001b[39m text = extract_toc_pages(\u001b[33m\"ExtrahiertVig05.pdf\"\u001b[39m)\n",
      "\u001b[32m~\\AppData\\Local\\Temp\\ipykernel_2880\\1408920097.py\u001b[39m in \u001b[36m?\u001b[39m\u001b[34m(pdf_path, lang)\u001b[39m\n\u001b[32m      4\u001b[39m \n\u001b[32m      5\u001b[39m     \u001b[38;5;28;01mfor\u001b[39;00m page_num \u001b[38;5;28;01min\u001b[39;00m range(len(doc)):\n\u001b[32m      6\u001b[39m         page = doc.load_page(page_num)\n\u001b[32m      7\u001b[39m         pix = page.get_pixmap(dpi=\u001b[32m300\u001b[39m)\n\u001b[32m----> \u001b[39m\u001b[32m8\u001b[39m         img = Image.open(io.BytesIO(pix.tobytes()))\n\u001b[32m      9\u001b[39m         text = pytesseract.image_to_string(img, lang=lang)\n\u001b[32m     10\u001b[39m \n\u001b[32m     11\u001b[39m         \u001b[38;5;28;01mif\u001b[39;00m \u001b[33m\"inhaltsverzeichnis\"\u001b[39m \u001b[38;5;28;01min\u001b[39;00m text.lower():\n",
      "\u001b[32mc:\\Users\\j7843\\Documents\\DAIA\\GEA_llm_pdf_processing_group17\\.venv\\Lib\\site-packages\\pymupdf\\__init__.py\u001b[39m in \u001b[36m?\u001b[39m\u001b[34m(self, output, jpg_quality)\u001b[39m\n\u001b[32m  10580\u001b[39m         \u001b[38;5;28;01mif\u001b[39;00m self.colorspace \u001b[38;5;28;01mand\u001b[39;00m self.colorspace.n > \u001b[32m3\u001b[39m \u001b[38;5;28;01mand\u001b[39;00m idx \u001b[38;5;28;01min\u001b[39;00m (\u001b[32m1\u001b[39m, \u001b[32m2\u001b[39m, \u001b[32m4\u001b[39m):\n\u001b[32m  10581\u001b[39m             \u001b[38;5;28;01mraise\u001b[39;00m ValueError(f\"unsupported colorspace for '{output}'\")\n\u001b[32m  10582\u001b[39m         \u001b[38;5;28;01mif\u001b[39;00m idx == \u001b[32m7\u001b[39m:\n\u001b[32m  10583\u001b[39m             self.set_dpi(self.xres, self.yres)\n\u001b[32m> \u001b[39m\u001b[32m10584\u001b[39m         barray = self._tobytes(idx, jpg_quality)\n\u001b[32m  10585\u001b[39m         \u001b[38;5;28;01mreturn\u001b[39;00m barray\n",
      "\u001b[32mc:\\Users\\j7843\\Documents\\DAIA\\GEA_llm_pdf_processing_group17\\.venv\\Lib\\site-packages\\pymupdf\\__init__.py\u001b[39m in \u001b[36m?\u001b[39m\u001b[34m(self, format_, jpg_quality)\u001b[39m\n\u001b[32m  10129\u001b[39m         \u001b[38;5;28;01melif\u001b[39;00m format_ == \u001b[32m7\u001b[39m:\n\u001b[32m  10130\u001b[39m             mupdf.fz_write_pixmap_as_jpeg(out, pm, jpg_quality, \u001b[32m0\u001b[39m)\n\u001b[32m  10131\u001b[39m         \u001b[38;5;28;01melse\u001b[39;00m:\n\u001b[32m  10132\u001b[39m             mupdf.fz_write_pixmap_as_png(out, pm)\n\u001b[32m> \u001b[39m\u001b[32m10133\u001b[39m         out.fz_close_output()\n\u001b[32m  10134\u001b[39m         barray = JM_BinFromBuffer(res)\n\u001b[32m  10135\u001b[39m         \u001b[38;5;28;01mreturn\u001b[39;00m barray\n",
      "\u001b[32mc:\\Users\\j7843\\Documents\\DAIA\\GEA_llm_pdf_processing_group17\\.venv\\Lib\\site-packages\\pymupdf\\mupdf.py\u001b[39m in \u001b[36m?\u001b[39m\u001b[34m(self)\u001b[39m\n\u001b[32m> \u001b[39m\u001b[32m28938\u001b[39m     \u001b[38;5;28;01mdef\u001b[39;00m fz_close_output(self):\n\u001b[32m  28939\u001b[39m         r\"\"\"\n\u001b[32m  28940\u001b[39m         Class-aware wrapper \u001b[38;5;28;01mfor\u001b[39;00m `::fz_close_output()`.\n\u001b[32m  28941\u001b[39m                 Flush pending output \u001b[38;5;28;01mand\u001b[39;00m close an output stream.\n",
      "\u001b[31mKeyboardInterrupt\u001b[39m: "
     ]
    }
   ],
   "source": [
    "def extract_toc_pages(pdf_path, lang='deu'):\n",
    "    doc = fitz.open(pdf_path)  # Open PDF file\n",
    "    toc_pages = {}\n",
    "\n",
    "    for page_num in range(len(doc)):\n",
    "        page = doc.load_page(page_num)\n",
    "        pix = page.get_pixmap(dpi=300)\n",
    "        img = Image.open(io.BytesIO(pix.tobytes()))\n",
    "        text = pytesseract.image_to_string(img, lang=lang)\n",
    "\n",
    "        if \"inhaltsverzeichnis\" in text.lower():\n",
    "            #toc_pages[page_num + 1] = text  # store text with human-friendly page number\n",
    "            return text\n",
    "        \n",
    "text = extract_toc_pages(\"ExtrahiertVig05.pdf\")\n"
   ]
  },
  {
   "cell_type": "code",
   "execution_count": null,
   "id": "70e71fdd",
   "metadata": {},
   "outputs": [
    {
     "name": "stdout",
     "output_type": "stream",
     "text": [
      "Anwenderhandbuch GRA3SSü lLKAB\n",
      "SEP Refigertion Eguipment FON\n",
      "\n",
      "Schraubenverdichteraggregat Aefgeration Equipment\n",
      "mit horizontalem Ölabscheider und dem Verdichter F\n",
      "\n",
      "Inhaltsverzeichnis\n",
      "\n",
      "1. BESCHREIBUNG 3.1. Allgemeines\n",
      "\n",
      "3.2. Wartung der Hauptbauteile\n",
      "\n",
      "1.1. Konstruktiver Aufbau\n",
      "\n",
      "3.3. Wartungsübersicht\n",
      "1.2. Arbeitsweise\n",
      "\n",
      "3.4. Ölwechsel\n",
      "1.3. Leistungsverstellung\n",
      "\n",
      "ANLAGEN MIT SACHNUMMER\n",
      "1.4. Verstellung des inneren 629537. :19321\n",
      "63 Volumenverhältnisses Vi “\n",
      "\n",
      "1.5. Überwachungseinrichtungen Kälteschema Anlage 1\n",
      "1.6. Sicherheitseinrichtungen Übersichtszeichnung SVA FA Anlage 2\n",
      "\n",
      "1.7. Aggregataufstellung Übersichtszeichnung SVA FH Anlage 3\n",
      "\n",
      "2. BEDIENUNGSHINWEISE\n",
      "\n",
      "2.1. Grundsätzliches\n",
      "\n",
      "& 2.2. Erste Inbetriebnahme\n",
      "2.3. Betrieb des Verdichteraggregates\n",
      "2.4. Normale Inbetriebsetzung\n",
      "2.5. Regelung der Verdichterleistung\n",
      "2.6. Normale Außerbetriebsetzung\n",
      "\n",
      "2.7. Außerbetriebsetzung für einen längeren\n",
      "Zeitraum\n",
      "\n",
      "3. WARTUNGSANWEISUNG\n",
      "\n",
      "AFD Spänich 629537.DOC\n",
      "(Ausgabe/ edition 20.02.95) Revision 0\n",
      "\n",
      "KÜHLAUTOMAT Berlin GmbH KAB\n",
      "\n",
      "P 1.8. Hinweis\n",
      "\n"
     ]
    }
   ],
   "source": [
    "print(text)\n",
    "\n",
    "\n",
    "#index_line = sort_toc_lines(index_name)\n",
    "# print(index_name)\n",
    "# print(index_line)"
   ]
  },
  {
   "cell_type": "code",
   "execution_count": 47,
   "id": "9a2be556",
   "metadata": {},
   "outputs": [],
   "source": [
    "def is_valid_toc_line(line: str) -> bool:\n",
    "    line = line.strip()\n",
    "\n",
    "    # 1. Must start with a number pattern like 1. or 1.1. or 2.3.5.\n",
    "    if not re.match(r'^\\d+(\\.\\d+)*\\.\\s?', line):\n",
    "        return False\n",
    "\n",
    "    # 2. Must contain alphabetic characters\n",
    "    if not re.search(r'[A-Za-zÄÖÜäöüß]', line):\n",
    "        return False\n",
    "\n",
    "    # 3. Exclude known keywords unrelated to TOC\n",
    "    if re.search(r'\\b(Revision|Ausgabe|edition|Version)\\b', line, re.IGNORECASE):\n",
    "        return False\n",
    "\n",
    "    # 4. Too short or mostly numeric\n",
    "    if len(line) < 5:\n",
    "        return False\n",
    "    if re.fullmatch(r'\\d+(\\.\\d+)*', line):\n",
    "        return False\n",
    "    if re.fullmatch(r'\\d{2}\\.\\d{2}\\.\\d{2,4}', line):\n",
    "        return False\n",
    "\n",
    "    return True"
   ]
  },
  {
   "cell_type": "code",
   "execution_count": null,
   "id": "10f360f3",
   "metadata": {},
   "outputs": [
    {
     "name": "stdout",
     "output_type": "stream",
     "text": [
      "['Anwenderhandbuch GRA3SSü lLKAB', 'SEP Refigertion Eguipment FON', 'Schraubenverdichteraggregat Aefgeration Equipment', 'mit horizontalem Ölabscheider und dem Verdichter F', 'Inhaltsverzeichnis', '1. BESCHREIBUNG 3.1. Allgemeines', '3.2. Wartung der Hauptbauteile', '1.1. Konstruktiver Aufbau', '3.3. Wartungsübersicht', '1.2. Arbeitsweise', '3.4. Ölwechsel', '1.3. Leistungsverstellung', 'ANLAGEN MIT SACHNUMMER', '1.4. Verstellung des inneren 629537. :19321', '63 Volumenverhältnisses Vi “', '1.5. Überwachungseinrichtungen Kälteschema Anlage 1', '1.6. Sicherheitseinrichtungen Übersichtszeichnung SVA FA Anlage 2', '1.7. Aggregataufstellung Übersichtszeichnung SVA FH Anlage 3', '2. BEDIENUNGSHINWEISE', '2.1. Grundsätzliches', '& 2.2. Erste Inbetriebnahme', '2.3. Betrieb des Verdichteraggregates', '2.4. Normale Inbetriebsetzung', '2.5. Regelung der Verdichterleistung', '2.6. Normale Außerbetriebsetzung', '2.7. Außerbetriebsetzung für einen längeren', 'Zeitraum', '3. WARTUNGSANWEISUNG', 'AFD Spänich 629537.DOC', '(Ausgabe/ edition 20.02.95) Revision 0', 'KÜHLAUTOMAT Berlin GmbH KAB', 'P 1.8. Hinweis']\n",
      "['1. BESCHREIBUNG 3.1. Allgemeines', '3.2. Wartung der Hauptbauteile', '1.1. Konstruktiver Aufbau', '3.3. Wartungsübersicht', '1.2. Arbeitsweise', '3.4. Ölwechsel', '1.3. Leistungsverstellung', '1.4. Verstellung des inneren 629537. :19321', '1.5. Überwachungseinrichtungen Kälteschema Anlage 1', '1.6. Sicherheitseinrichtungen Übersichtszeichnung SVA FA Anlage 2', '1.7. Aggregataufstellung Übersichtszeichnung SVA FH Anlage 3', '2. BEDIENUNGSHINWEISE', '2.1. Grundsätzliches', '2.3. Betrieb des Verdichteraggregates', '2.4. Normale Inbetriebsetzung', '2.5. Regelung der Verdichterleistung', '2.6. Normale Außerbetriebsetzung', '2.7. Außerbetriebsetzung für einen längeren', '3. WARTUNGSANWEISUNG']\n"
     ]
    },
    {
     "ename": "ImportError",
     "evalue": "cannot import name 'separate_on_number' from 'Jiahao.process_text' (c:\\Users\\j7843\\Documents\\DAIA\\GEA_llm_pdf_processing_group17\\Jiahao\\process_text.py)",
     "output_type": "error",
     "traceback": [
      "\u001b[31m---------------------------------------------------------------------------\u001b[39m",
      "\u001b[31mImportError\u001b[39m                               Traceback (most recent call last)",
      "\u001b[36mCell\u001b[39m\u001b[36m \u001b[39m\u001b[32mIn[55]\u001b[39m\u001b[32m, line 7\u001b[39m\n\u001b[32m      3\u001b[39m valid_lines = [line \u001b[38;5;28;01mfor\u001b[39;00m line \u001b[38;5;129;01min\u001b[39;00m lines \u001b[38;5;28;01mif\u001b[39;00m is_valid_toc_line(line)]\n\u001b[32m      4\u001b[39m \u001b[38;5;28mprint\u001b[39m(valid_lines)\n\u001b[32m----> \u001b[39m\u001b[32m7\u001b[39m \u001b[38;5;28;01mfrom\u001b[39;00m\u001b[38;5;250m \u001b[39m\u001b[34;01mJiahao\u001b[39;00m\u001b[34;01m.\u001b[39;00m\u001b[34;01mprocess_text\u001b[39;00m\u001b[38;5;250m \u001b[39m\u001b[38;5;28;01mimport\u001b[39;00m separate_on_number\n\u001b[32m      9\u001b[39m process_text = separate_on_number(text)\n",
      "\u001b[31mImportError\u001b[39m: cannot import name 'separate_on_number' from 'Jiahao.process_text' (c:\\Users\\j7843\\Documents\\DAIA\\GEA_llm_pdf_processing_group17\\Jiahao\\process_text.py)"
     ]
    }
   ],
   "source": [
    "lines = [line.strip() for line in text.splitlines() if line.strip()]\n",
    "print(lines)\n",
    "valid_lines = [line for line in lines if is_valid_toc_line(line)]\n",
    "print(valid_lines)\n",
    "\n",
    "\n",
    "\n",
    "\n",
    "process_text = separate_on_number(text)"
   ]
  },
  {
   "cell_type": "code",
   "execution_count": null,
   "id": "8d9364d7",
   "metadata": {},
   "outputs": [
    {
     "name": "stdout",
     "output_type": "stream",
     "text": [
      "01: Anwenderhandbuch GRA3SSü lLKAB\n",
      "02: SEP Refigertion Eguipment FON\n",
      "03: \n",
      "04: Schraubenverdichteraggregat Aefgeration Equipment\n",
      "05: mit horizontalem Ölabscheider und dem Verdichter F\n",
      "06: \n",
      "07: Inhaltsverzeichnis\n",
      "08: \n",
      "09: 1. BESCHREIBUNG\n",
      "10: 3.1. Allgemeines\n",
      "11: \n",
      "12: 3.2. Wartung der Hauptbauteile\n",
      "13: \n",
      "14: 1.1. Konstruktiver Aufbau\n",
      "15: \n",
      "16: 3.3. Wartungsübersicht\n",
      "17: 1.2. Arbeitsweise\n",
      "18: \n",
      "19: 3.4. Ölwechsel\n",
      "20: 1.3. Leistungsverstellung\n",
      "21: \n",
      "22: ANLAGEN MIT SACHNUMMER\n",
      "23: 1.4. Verstellung des inneren\n",
      "24: 629537. :19321\n",
      "25: 63 Volumenverhältnisses Vi “\n",
      "26: \n",
      "27: 1.5. Überwachungseinrichtungen Kälteschema Anlage\n",
      "28: 1\n",
      "29: 1.6. Sicherheitseinrichtungen Übersichtszeichnung SVA FA Anlage\n",
      "30: 2\n",
      "31: \n",
      "32: 1.7. Aggregataufstellung Übersichtszeichnung SVA FH Anlage\n",
      "33: 3\n",
      "34: \n",
      "35: 2. BEDIENUNGSHINWEISE\n",
      "36: \n",
      "37: 2.1. Grundsätzliches\n",
      "38: \n",
      "39: &\n",
      "40: 2.2. Erste Inbetriebnahme\n",
      "41: 2.3. Betrieb des Verdichteraggregates\n",
      "42: 2.4. Normale Inbetriebsetzung\n",
      "43: 2.5. Regelung der Verdichterleistung\n",
      "44: 2.6. Normale Außerbetriebsetzung\n",
      "45: \n",
      "46: 2.7. Außerbetriebsetzung für einen längeren\n",
      "47: Zeitraum\n",
      "48: \n",
      "49: 3. WARTUNGSANWEISUNG\n",
      "50: \n",
      "51: AFD Spänich\n",
      "52: 629537.DOC\n",
      "53: (Ausgabe/ edition\n",
      "54: 20.02.95) Revision 0\n",
      "55: \n",
      "56: KÜHLAUTOMAT Berlin GmbH KAB\n",
      "57: \n",
      "58: P\n",
      "59: 1.8. Hinweis\n"
     ]
    }
   ],
   "source": [
    "\n",
    "\n",
    "\n",
    "\n"
   ]
  },
  {
   "cell_type": "code",
   "execution_count": null,
   "id": "12b6cc16",
   "metadata": {},
   "outputs": [],
   "source": []
  },
  {
   "cell_type": "code",
   "execution_count": null,
   "id": "fc475e4f",
   "metadata": {},
   "outputs": [
    {
     "name": "stdout",
     "output_type": "stream",
     "text": [
      "--- Page 12 contains 'Inhaltsverzeichnis' ---\n",
      "Anwenderhandbuch GRA3SSü lLKAB\n",
      "SEP Refigertion Eguipment FON\n",
      "\n",
      "Schraubenverdichteraggregat Aefgeration Equipment\n",
      "mit horizontalem Ölabscheider und dem Verdichter F\n",
      "\n",
      "Inhaltsverzeichnis\n",
      "\n",
      "1. BESCHREIBUNG 3.1. Allgemeines\n",
      "\n",
      "3.2. Wartung der Hauptbauteile\n",
      "\n",
      "1.1. Konstruktiver Aufbau\n",
      "\n",
      "3.3. Wartungsübersicht\n",
      "1.2. Arbeitsweise\n",
      "\n",
      "3.4. Ölwechsel\n",
      "1.3. Leistungsverstellung\n",
      "\n",
      "ANLAGEN MIT SACHNUMMER\n",
      "1.4. Verstellung des inneren 629537. :19321\n",
      "63 Volumenverhältnisses Vi “\n",
      "\n",
      "1.5. Überwachungseinrichtungen Kälteschema Anlage 1\n",
      "1.6. Sicherheitseinrichtungen Übersichtszeichnung SVA FA Anlage 2\n",
      "\n",
      "1.7. Aggregataufstellung Übersichtszeichnung SVA FH Anlage 3\n",
      "\n",
      "2. BEDIENUNGSHINWEISE\n",
      "\n",
      "2.1. Grundsätzliches\n",
      "\n",
      "& 2.2. Erste Inbetriebnahme\n",
      "2.3. Betrieb des Verdichteraggregates\n",
      "2.4. Normale Inbetriebsetzung\n",
      "2.5. Regelung der Verdichterleistung\n",
      "2.6. Normale Außerbetriebsetzung\n",
      "\n",
      "2.7. Außerbetriebsetzung für einen längeren\n",
      "Zeitraum\n",
      "\n",
      "3. WARTUNGSANWEISUNG\n",
      "\n",
      "AFD Spänich 629537.DOC\n",
      "(Ausgabe/ edition 20.02.95) Revision 0\n",
      "\n",
      "KÜHLAUTOMAT Berlin GmbH KAB\n",
      "\n",
      "P 1.8. Hinweis\n",
      "\n",
      "\n",
      "\n"
     ]
    }
   ],
   "source": [
    "sorted_lines = sort_toc_lines(valid_lines)\n",
    "\n",
    "\n",
    "print(index_name)\n",
    "\n",
    "\n",
    "\n",
    "\n",
    "\n",
    "\n",
    "if sorted_lines:\n",
    "    toc_pages[page_num + 1] = sorted_lines  # +1 for human-friendly page number\n",
    "\n",
    "\n",
    "for page, entries in toc_pages.items():\n",
    "    print(f\"\\n--- TOC found on page {page} ---\")\n",
    "    for entry in entries:\n",
    "        print(entry)"
   ]
  }
 ],
 "metadata": {
  "kernelspec": {
   "display_name": ".venv",
   "language": "python",
   "name": "python3"
  },
  "language_info": {
   "codemirror_mode": {
    "name": "ipython",
    "version": 3
   },
   "file_extension": ".py",
   "mimetype": "text/x-python",
   "name": "python",
   "nbconvert_exporter": "python",
   "pygments_lexer": "ipython3",
   "version": "3.12.7"
  }
 },
 "nbformat": 4,
 "nbformat_minor": 5
}
