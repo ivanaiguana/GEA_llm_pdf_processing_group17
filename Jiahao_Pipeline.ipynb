{
 "cells": [
  {
   "cell_type": "code",
   "execution_count": 10,
   "id": "1102fb46",
   "metadata": {},
   "outputs": [],
   "source": [
    "import fitz  \n",
    "from PIL import Image\n",
    "import pytesseract\n",
    "import io\n",
    "import re\n",
    "pytesseract.pytesseract.tesseract_cmd = r\"C:\\Program Files\\Tesseract-OCR\\tesseract.exe\""
   ]
  },
  {
   "cell_type": "code",
   "execution_count": 16,
   "id": "007e4ee8",
   "metadata": {},
   "outputs": [
    {
     "ename": "ImportError",
     "evalue": "cannot import name 'sort_toc_lines' from 'Jiahao.Helper' (c:\\Users\\j7843\\Documents\\DAIA\\GEA_llm_pdf_processing_group17\\Jiahao\\Helper.py)",
     "output_type": "error",
     "traceback": [
      "\u001b[31m---------------------------------------------------------------------------\u001b[39m",
      "\u001b[31mImportError\u001b[39m                               Traceback (most recent call last)",
      "\u001b[36mCell\u001b[39m\u001b[36m \u001b[39m\u001b[32mIn[16]\u001b[39m\u001b[32m, line 1\u001b[39m\n\u001b[32m----> \u001b[39m\u001b[32m1\u001b[39m \u001b[38;5;28;01mfrom\u001b[39;00m\u001b[38;5;250m \u001b[39m\u001b[34;01mJiahao\u001b[39;00m\u001b[34;01m.\u001b[39;00m\u001b[34;01mHelper\u001b[39;00m\u001b[38;5;250m \u001b[39m\u001b[38;5;28;01mimport\u001b[39;00m sort_toc_lines\n\u001b[32m      2\u001b[39m \u001b[38;5;28;01mfrom\u001b[39;00m\u001b[38;5;250m \u001b[39m\u001b[34;01mJiahao\u001b[39;00m\u001b[34;01m.\u001b[39;00m\u001b[34;01mHelper\u001b[39;00m\u001b[38;5;250m \u001b[39m\u001b[38;5;28;01mimport\u001b[39;00m separate_on_number\n\u001b[32m      3\u001b[39m \u001b[38;5;28;01mfrom\u001b[39;00m\u001b[38;5;250m \u001b[39m\u001b[34;01mJiahao\u001b[39;00m\u001b[34;01m.\u001b[39;00m\u001b[34;01mHelper\u001b[39;00m\u001b[38;5;250m \u001b[39m\u001b[38;5;28;01mimport\u001b[39;00m extract_toc_pages\n",
      "\u001b[31mImportError\u001b[39m: cannot import name 'sort_toc_lines' from 'Jiahao.Helper' (c:\\Users\\j7843\\Documents\\DAIA\\GEA_llm_pdf_processing_group17\\Jiahao\\Helper.py)"
     ]
    }
   ],
   "source": [
    "from Jiahao.Helper import sort_toc_lines\n",
    "from Jiahao.Helper import separate_on_number\n",
    "from Jiahao.Helper import extract_toc_pages\n",
    "from Jiahao.Helper import is_valid_toc_line\n"
   ]
  },
  {
   "cell_type": "code",
   "execution_count": null,
   "id": "e28b3513",
   "metadata": {},
   "outputs": [],
   "source": [
    "def extract_toc_pages(pdf_path, lang='deu'):\n",
    "    doc = fitz.open(pdf_path)  # Open PDF file\n",
    "    toc_pages = {}\n",
    "\n",
    "    for page_num in range(len(doc)):\n",
    "        page = doc.load_page(page_num)\n",
    "        pix = page.get_pixmap(dpi=300)\n",
    "        img = Image.open(io.BytesIO(pix.tobytes()))\n",
    "        text = pytesseract.image_to_string(img, lang=lang)\n",
    "\n",
    "        if \"inhaltsverzeichnis\" in text.lower():\n",
    "            #toc_pages[page_num + 1] = text  # store text with human-friendly page number\n",
    "            return text\n",
    "        \n",
    "text = extract_toc_pages(\"ExtrahiertVig05.pdf\")\n",
    "print(text)\n"
   ]
  },
  {
   "cell_type": "code",
   "execution_count": null,
   "id": "70e71fdd",
   "metadata": {},
   "outputs": [
    {
     "name": "stdout",
     "output_type": "stream",
     "text": [
      "['Anwenderhandbuch GRA3SSü lLKAB', 'SEP Refigertion Eguipment FON', '', 'Schraubenverdichteraggregat Aefgeration Equipment', 'mit horizontalem Ölabscheider und dem Verdichter F', '', 'Inhaltsverzeichnis', '', '1. BESCHREIBUNG', '3.1. Allgemeines', '', '3.2. Wartung der Hauptbauteile', '', '1.1. Konstruktiver Aufbau', '', '3.3. Wartungsübersicht', '1.2. Arbeitsweise', '', '3.4. Ölwechsel', '1.3. Leistungsverstellung', '', 'ANLAGEN MIT SACHNUMMER', '1.4. Verstellung des inneren', '629537. :19321', '63 Volumenverhältnisses Vi “', '', '1.5. Überwachungseinrichtungen Kälteschema Anlage', '1', '1.6. Sicherheitseinrichtungen Übersichtszeichnung SVA FA Anlage', '2', '', '1.7. Aggregataufstellung Übersichtszeichnung SVA FH Anlage', '3', '', '2. BEDIENUNGSHINWEISE', '', '2.1. Grundsätzliches', '', '&', '2.2. Erste Inbetriebnahme', '2.3. Betrieb des Verdichteraggregates', '2.4. Normale Inbetriebsetzung', '2.5. Regelung der Verdichterleistung', '2.6. Normale Außerbetriebsetzung', '', '2.7. Außerbetriebsetzung für einen längeren', 'Zeitraum', '', '3. WARTUNGSANWEISUNG', '', 'AFD Spänich', '629537.DOC', '(Ausgabe/ edition', '20.02.95) Revision 0', '', 'KÜHLAUTOMAT Berlin GmbH KAB', '', 'P', '1.8. Hinweis']\n"
     ]
    }
   ],
   "source": [
    "\n",
    "\n",
    "\n",
    "#index_line = sort_toc_lines(index_name)\n",
    "# print(index_name)\n",
    "# print(index_line)"
   ]
  },
  {
   "cell_type": "code",
   "execution_count": 23,
   "id": "10f360f3",
   "metadata": {},
   "outputs": [
    {
     "name": "stdout",
     "output_type": "stream",
     "text": [
      "['Anwenderhandbuch GRA3SSü lLKAB', 'SEP Refigertion Eguipment FON', '', 'Schraubenverdichteraggregat Aefgeration Equipment', 'mit horizontalem Ölabscheider und dem Verdichter F', '', 'Inhaltsverzeichnis', '', '1. BESCHREIBUNG', '3.1. Allgemeines', '', '3.2. Wartung der Hauptbauteile', '', '1.1. Konstruktiver Aufbau', '', '3.3. Wartungsübersicht', '1.2. Arbeitsweise', '', '3.4. Ölwechsel', '1.3. Leistungsverstellung', '', 'ANLAGEN MIT SACHNUMMER', '1.4. Verstellung des inneren', '629537. :19321', '63 Volumenverhältnisses Vi “', '', '1.5. Überwachungseinrichtungen Kälteschema Anlage', '1', '1.6. Sicherheitseinrichtungen Übersichtszeichnung SVA FA Anlage', '2', '', '1.7. Aggregataufstellung Übersichtszeichnung SVA FH Anlage', '3', '', '2. BEDIENUNGSHINWEISE', '', '2.1. Grundsätzliches', '', '&', '2.2. Erste Inbetriebnahme', '2.3. Betrieb des Verdichteraggregates', '2.4. Normale Inbetriebsetzung', '2.5. Regelung der Verdichterleistung', '2.6. Normale Außerbetriebsetzung', '', '2.7. Außerbetriebsetzung für einen längeren', 'Zeitraum', '', '3. WARTUNGSANWEISUNG', '', 'AFD Spänich', '629537.DOC', '(Ausgabe/ edition', '20.02.95) Revision 0', '', 'KÜHLAUTOMAT Berlin GmbH KAB', '', 'P', '1.8. Hinweis']\n",
      "1. BESCHREIBUNG\n",
      "3.1. Allgemeines\n",
      "3.2. Wartung der Hauptbauteile\n",
      "1.1. Konstruktiver Aufbau\n",
      "3.3. Wartungsübersicht\n",
      "1.2. Arbeitsweise\n",
      "3.4. Ölwechsel\n",
      "1.3. Leistungsverstellung\n",
      "1.4. Verstellung des inneren\n",
      "1.5. Überwachungseinrichtungen Kälteschema Anlage\n",
      "1.6. Sicherheitseinrichtungen Übersichtszeichnung SVA FA Anlage\n",
      "1.7. Aggregataufstellung Übersichtszeichnung SVA FH Anlage\n",
      "2. BEDIENUNGSHINWEISE\n",
      "2.1. Grundsätzliches\n",
      "2.2. Erste Inbetriebnahme\n",
      "2.3. Betrieb des Verdichteraggregates\n",
      "2.4. Normale Inbetriebsetzung\n",
      "2.5. Regelung der Verdichterleistung\n",
      "2.6. Normale Außerbetriebsetzung\n",
      "2.7. Außerbetriebsetzung für einen längeren\n",
      "3. WARTUNGSANWEISUNG\n",
      "629537.DOC\n",
      "1.8. Hinweis\n",
      "['1. BESCHREIBUNG', '3.1. Allgemeines', '3.2. Wartung der Hauptbauteile', '1.1. Konstruktiver Aufbau', '3.3. Wartungsübersicht', '1.2. Arbeitsweise', '3.4. Ölwechsel', '1.3. Leistungsverstellung', '1.4. Verstellung des inneren', '1.5. Überwachungseinrichtungen Kälteschema Anlage', '1.6. Sicherheitseinrichtungen Übersichtszeichnung SVA FA Anlage', '1.7. Aggregataufstellung Übersichtszeichnung SVA FH Anlage', '2. BEDIENUNGSHINWEISE', '2.1. Grundsätzliches', '2.2. Erste Inbetriebnahme', '2.3. Betrieb des Verdichteraggregates', '2.4. Normale Inbetriebsetzung', '2.5. Regelung der Verdichterleistung', '2.6. Normale Außerbetriebsetzung', '2.7. Außerbetriebsetzung für einen längeren', '3. WARTUNGSANWEISUNG', '629537.DOC', '1.8. Hinweis']\n",
      "['1. BESCHREIBUNG', '1.1. Konstruktiver Aufbau', '1.2. Arbeitsweise', '1.3. Leistungsverstellung', '1.4. Verstellung des inneren', '1.5. Überwachungseinrichtungen Kälteschema Anlage', '1.6. Sicherheitseinrichtungen Übersichtszeichnung SVA FA Anlage', '1.7. Aggregataufstellung Übersichtszeichnung SVA FH Anlage', '1.8. Hinweis', '2. BEDIENUNGSHINWEISE', '2.1. Grundsätzliches', '2.2. Erste Inbetriebnahme', '2.3. Betrieb des Verdichteraggregates', '2.4. Normale Inbetriebsetzung', '2.5. Regelung der Verdichterleistung', '2.6. Normale Außerbetriebsetzung', '2.7. Außerbetriebsetzung für einen längeren', '3. WARTUNGSANWEISUNG', '3.1. Allgemeines', '3.2. Wartung der Hauptbauteile', '3.3. Wartungsübersicht', '3.4. Ölwechsel', '629537.DOC']\n",
      "1. BESCHREIBUNG\n",
      "1.1. Konstruktiver Aufbau\n",
      "1.2. Arbeitsweise\n",
      "1.3. Leistungsverstellung\n",
      "1.4. Verstellung des inneren\n",
      "1.5. Überwachungseinrichtungen Kälteschema Anlage\n",
      "1.6. Sicherheitseinrichtungen Übersichtszeichnung SVA FA Anlage\n",
      "1.7. Aggregataufstellung Übersichtszeichnung SVA FH Anlage\n",
      "1.8. Hinweis\n",
      "2. BEDIENUNGSHINWEISE\n",
      "2.1. Grundsätzliches\n",
      "2.2. Erste Inbetriebnahme\n",
      "2.3. Betrieb des Verdichteraggregates\n",
      "2.4. Normale Inbetriebsetzung\n",
      "2.5. Regelung der Verdichterleistung\n",
      "2.6. Normale Außerbetriebsetzung\n",
      "2.7. Außerbetriebsetzung für einen längeren\n",
      "3. WARTUNGSANWEISUNG\n",
      "3.1. Allgemeines\n",
      "3.2. Wartung der Hauptbauteile\n",
      "3.3. Wartungsübersicht\n",
      "3.4. Ölwechsel\n",
      "629537.DOC\n"
     ]
    }
   ],
   "source": [
    "process_text = separate_on_number(text)\n",
    "print(process_text)\n",
    "\n",
    "valid_lines = [line for line in process_text if is_valid_toc_line(line)]\n",
    "for i in valid_lines:\n",
    "    print(i)\n",
    "print(valid_lines)\n",
    "sorted_lines = sort_toc_lines(valid_lines)\n",
    "print(sorted_lines)\n",
    "\n",
    "for i in sorted_lines:\n",
    "    print(i)\n",
    "\n"
   ]
  },
  {
   "cell_type": "code",
   "execution_count": null,
   "id": "12b6cc16",
   "metadata": {},
   "outputs": [],
   "source": []
  },
  {
   "cell_type": "code",
   "execution_count": 20,
   "id": "fc475e4f",
   "metadata": {},
   "outputs": [
    {
     "ename": "NameError",
     "evalue": "name 'toc_pages' is not defined",
     "output_type": "error",
     "traceback": [
      "\u001b[31m---------------------------------------------------------------------------\u001b[39m",
      "\u001b[31mNameError\u001b[39m                                 Traceback (most recent call last)",
      "\u001b[36mCell\u001b[39m\u001b[36m \u001b[39m\u001b[32mIn[20]\u001b[39m\u001b[32m, line 2\u001b[39m\n\u001b[32m      1\u001b[39m \u001b[38;5;28;01mif\u001b[39;00m sorted_lines:\n\u001b[32m----> \u001b[39m\u001b[32m2\u001b[39m     \u001b[43mtoc_pages\u001b[49m[page_num + \u001b[32m1\u001b[39m] = sorted_lines  \u001b[38;5;66;03m# +1 for human-friendly page number\u001b[39;00m\n\u001b[32m      5\u001b[39m \u001b[38;5;28;01mfor\u001b[39;00m page, entries \u001b[38;5;129;01min\u001b[39;00m toc_pages.items():\n\u001b[32m      6\u001b[39m     \u001b[38;5;28mprint\u001b[39m(\u001b[33mf\u001b[39m\u001b[33m\"\u001b[39m\u001b[38;5;130;01m\\n\u001b[39;00m\u001b[33m--- TOC found on page \u001b[39m\u001b[38;5;132;01m{\u001b[39;00mpage\u001b[38;5;132;01m}\u001b[39;00m\u001b[33m ---\u001b[39m\u001b[33m\"\u001b[39m)\n",
      "\u001b[31mNameError\u001b[39m: name 'toc_pages' is not defined"
     ]
    }
   ],
   "source": [
    "if sorted_lines:\n",
    "    toc_pages[page_num + 1] = sorted_lines  # +1 for human-friendly page number\n",
    "\n",
    "\n",
    "for page, entries in toc_pages.items():\n",
    "    print(f\"\\n--- TOC found on page {page} ---\")\n",
    "    for entry in entries:\n",
    "        print(entry)"
   ]
  }
 ],
 "metadata": {
  "kernelspec": {
   "display_name": ".venv",
   "language": "python",
   "name": "python3"
  },
  "language_info": {
   "codemirror_mode": {
    "name": "ipython",
    "version": 3
   },
   "file_extension": ".py",
   "mimetype": "text/x-python",
   "name": "python",
   "nbconvert_exporter": "python",
   "pygments_lexer": "ipython3",
   "version": "3.12.7"
  }
 },
 "nbformat": 4,
 "nbformat_minor": 5
}
