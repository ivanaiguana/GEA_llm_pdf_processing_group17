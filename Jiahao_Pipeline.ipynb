{
 "cells": [
  {
   "cell_type": "code",
   "execution_count": 2,
   "id": "1102fb46",
   "metadata": {},
   "outputs": [
    {
     "ename": "ImportError",
     "evalue": "Error importing numpy: you should not try to import numpy from\n        its source directory; please exit the numpy source tree, and relaunch\n        your python interpreter from there.",
     "output_type": "error",
     "traceback": [
      "\u001b[1;31m---------------------------------------------------------------------------\u001b[0m",
      "\u001b[1;31mModuleNotFoundError\u001b[0m                       Traceback (most recent call last)",
      "File \u001b[1;32mc:\\Users\\j7843\\Documents\\DAIA\\GEA_llm_pdf_processing_group17\\.venv\\lib\\site-packages\\numpy\\_core\\__init__.py:23\u001b[0m\n\u001b[0;32m     22\u001b[0m \u001b[38;5;28;01mtry\u001b[39;00m:\n\u001b[1;32m---> 23\u001b[0m     \u001b[38;5;28;01mfrom\u001b[39;00m\u001b[38;5;250m \u001b[39m\u001b[38;5;21;01m.\u001b[39;00m\u001b[38;5;250m \u001b[39m\u001b[38;5;28;01mimport\u001b[39;00m multiarray\n\u001b[0;32m     24\u001b[0m \u001b[38;5;28;01mexcept\u001b[39;00m \u001b[38;5;167;01mImportError\u001b[39;00m \u001b[38;5;28;01mas\u001b[39;00m exc:\n",
      "File \u001b[1;32mc:\\Users\\j7843\\Documents\\DAIA\\GEA_llm_pdf_processing_group17\\.venv\\lib\\site-packages\\numpy\\_core\\multiarray.py:10\u001b[0m\n\u001b[0;32m      9\u001b[0m \u001b[38;5;28;01mimport\u001b[39;00m\u001b[38;5;250m \u001b[39m\u001b[38;5;21;01mfunctools\u001b[39;00m\n\u001b[1;32m---> 10\u001b[0m \u001b[38;5;28;01mfrom\u001b[39;00m\u001b[38;5;250m \u001b[39m\u001b[38;5;21;01m.\u001b[39;00m\u001b[38;5;250m \u001b[39m\u001b[38;5;28;01mimport\u001b[39;00m overrides\n\u001b[0;32m     11\u001b[0m \u001b[38;5;28;01mfrom\u001b[39;00m\u001b[38;5;250m \u001b[39m\u001b[38;5;21;01m.\u001b[39;00m\u001b[38;5;250m \u001b[39m\u001b[38;5;28;01mimport\u001b[39;00m _multiarray_umath\n",
      "File \u001b[1;32mc:\\Users\\j7843\\Documents\\DAIA\\GEA_llm_pdf_processing_group17\\.venv\\lib\\site-packages\\numpy\\_core\\overrides.py:7\u001b[0m\n\u001b[0;32m      6\u001b[0m \u001b[38;5;28;01mfrom\u001b[39;00m\u001b[38;5;250m \u001b[39m\u001b[38;5;21;01m.\u001b[39;00m\u001b[38;5;21;01m.\u001b[39;00m\u001b[38;5;21;01m_utils\u001b[39;00m\u001b[38;5;21;01m.\u001b[39;00m\u001b[38;5;21;01m_inspect\u001b[39;00m\u001b[38;5;250m \u001b[39m\u001b[38;5;28;01mimport\u001b[39;00m getargspec\n\u001b[1;32m----> 7\u001b[0m \u001b[38;5;28;01mfrom\u001b[39;00m\u001b[38;5;250m \u001b[39m\u001b[38;5;21;01mnumpy\u001b[39;00m\u001b[38;5;21;01m.\u001b[39;00m\u001b[38;5;21;01m_core\u001b[39;00m\u001b[38;5;21;01m.\u001b[39;00m\u001b[38;5;21;01m_multiarray_umath\u001b[39;00m\u001b[38;5;250m \u001b[39m\u001b[38;5;28;01mimport\u001b[39;00m (\n\u001b[0;32m      8\u001b[0m     add_docstring,  _get_implementing_args, _ArrayFunctionDispatcher)\n\u001b[0;32m     11\u001b[0m ARRAY_FUNCTIONS \u001b[38;5;241m=\u001b[39m \u001b[38;5;28mset\u001b[39m()\n",
      "\u001b[1;31mModuleNotFoundError\u001b[0m: No module named 'numpy._core._multiarray_umath'",
      "\nDuring handling of the above exception, another exception occurred:\n",
      "\u001b[1;31mImportError\u001b[0m                               Traceback (most recent call last)",
      "File \u001b[1;32mc:\\Users\\j7843\\Documents\\DAIA\\GEA_llm_pdf_processing_group17\\.venv\\lib\\site-packages\\numpy\\__init__.py:127\u001b[0m\n\u001b[0;32m    126\u001b[0m \u001b[38;5;28;01mtry\u001b[39;00m:\n\u001b[1;32m--> 127\u001b[0m     \u001b[38;5;28;01mfrom\u001b[39;00m\u001b[38;5;250m \u001b[39m\u001b[38;5;21;01mnumpy\u001b[39;00m\u001b[38;5;21;01m.\u001b[39;00m\u001b[38;5;21;01m__config__\u001b[39;00m\u001b[38;5;250m \u001b[39m\u001b[38;5;28;01mimport\u001b[39;00m show_config\n\u001b[0;32m    128\u001b[0m \u001b[38;5;28;01mexcept\u001b[39;00m \u001b[38;5;167;01mImportError\u001b[39;00m \u001b[38;5;28;01mas\u001b[39;00m e:\n",
      "File \u001b[1;32mc:\\Users\\j7843\\Documents\\DAIA\\GEA_llm_pdf_processing_group17\\.venv\\lib\\site-packages\\numpy\\__config__.py:4\u001b[0m\n\u001b[0;32m      3\u001b[0m \u001b[38;5;28;01mfrom\u001b[39;00m\u001b[38;5;250m \u001b[39m\u001b[38;5;21;01menum\u001b[39;00m\u001b[38;5;250m \u001b[39m\u001b[38;5;28;01mimport\u001b[39;00m Enum\n\u001b[1;32m----> 4\u001b[0m \u001b[38;5;28;01mfrom\u001b[39;00m\u001b[38;5;250m \u001b[39m\u001b[38;5;21;01mnumpy\u001b[39;00m\u001b[38;5;21;01m.\u001b[39;00m\u001b[38;5;21;01m_core\u001b[39;00m\u001b[38;5;21;01m.\u001b[39;00m\u001b[38;5;21;01m_multiarray_umath\u001b[39;00m\u001b[38;5;250m \u001b[39m\u001b[38;5;28;01mimport\u001b[39;00m (\n\u001b[0;32m      5\u001b[0m     __cpu_features__,\n\u001b[0;32m      6\u001b[0m     __cpu_baseline__,\n\u001b[0;32m      7\u001b[0m     __cpu_dispatch__,\n\u001b[0;32m      8\u001b[0m )\n\u001b[0;32m     10\u001b[0m __all__ \u001b[38;5;241m=\u001b[39m [\u001b[38;5;124m\"\u001b[39m\u001b[38;5;124mshow_config\u001b[39m\u001b[38;5;124m\"\u001b[39m]\n",
      "File \u001b[1;32mc:\\Users\\j7843\\Documents\\DAIA\\GEA_llm_pdf_processing_group17\\.venv\\lib\\site-packages\\numpy\\_core\\__init__.py:49\u001b[0m\n\u001b[0;32m     26\u001b[0m     msg \u001b[38;5;241m=\u001b[39m \u001b[38;5;124m\"\"\"\u001b[39m\n\u001b[0;32m     27\u001b[0m \n\u001b[0;32m     28\u001b[0m \u001b[38;5;124mIMPORTANT: PLEASE READ THIS FOR ADVICE ON HOW TO SOLVE THIS ISSUE!\u001b[39m\n\u001b[1;32m   (...)\u001b[0m\n\u001b[0;32m     47\u001b[0m \u001b[38;5;124m\"\"\"\u001b[39m \u001b[38;5;241m%\u001b[39m (sys\u001b[38;5;241m.\u001b[39mversion_info[\u001b[38;5;241m0\u001b[39m], sys\u001b[38;5;241m.\u001b[39mversion_info[\u001b[38;5;241m1\u001b[39m], sys\u001b[38;5;241m.\u001b[39mexecutable,\n\u001b[0;32m     48\u001b[0m         __version__, exc)\n\u001b[1;32m---> 49\u001b[0m     \u001b[38;5;28;01mraise\u001b[39;00m \u001b[38;5;167;01mImportError\u001b[39;00m(msg)\n\u001b[0;32m     50\u001b[0m \u001b[38;5;28;01mfinally\u001b[39;00m:\n",
      "\u001b[1;31mImportError\u001b[0m: \n\nIMPORTANT: PLEASE READ THIS FOR ADVICE ON HOW TO SOLVE THIS ISSUE!\n\nImporting the numpy C-extensions failed. This error can happen for\nmany reasons, often due to issues with your setup or how NumPy was\ninstalled.\n\nWe have compiled some common reasons and troubleshooting tips at:\n\n    https://numpy.org/devdocs/user/troubleshooting-importerror.html\n\nPlease note and check the following:\n\n  * The Python version is: Python3.9 from \"c:\\Users\\j7843\\Documents\\DAIA\\GEA_llm_pdf_processing_group17\\.venv\\Scripts\\python.exe\"\n  * The NumPy version is: \"2.2.6\"\n\nand make sure that they are the versions you expect.\nPlease carefully study the documentation linked above for further help.\n\nOriginal error was: No module named 'numpy._core._multiarray_umath'\n",
      "\nThe above exception was the direct cause of the following exception:\n",
      "\u001b[1;31mImportError\u001b[0m                               Traceback (most recent call last)",
      "Cell \u001b[1;32mIn[2], line 9\u001b[0m\n\u001b[0;32m      6\u001b[0m \u001b[38;5;28;01mimport\u001b[39;00m\u001b[38;5;250m \u001b[39m\u001b[38;5;21;01mos\u001b[39;00m\n\u001b[0;32m      7\u001b[0m \u001b[38;5;66;03m#pytesseract.pytesseract.tesseract_cmd = r\"C:\\Program Files\\Tesseract-OCR\\tesseract.exe\"\u001b[39;00m\n\u001b[0;32m      8\u001b[0m \u001b[38;5;66;03m#import easyocr\u001b[39;00m\n\u001b[1;32m----> 9\u001b[0m \u001b[38;5;28;01mimport\u001b[39;00m\u001b[38;5;250m \u001b[39m\u001b[38;5;21;01mnumpy\u001b[39;00m\u001b[38;5;250m \u001b[39m\u001b[38;5;28;01mas\u001b[39;00m\u001b[38;5;250m \u001b[39m\u001b[38;5;21;01mnp\u001b[39;00m\n\u001b[0;32m     10\u001b[0m \u001b[38;5;28;01mfrom\u001b[39;00m\u001b[38;5;250m \u001b[39m\u001b[38;5;21;01mdotenv\u001b[39;00m\u001b[38;5;250m \u001b[39m\u001b[38;5;28;01mimport\u001b[39;00m load_dotenv\n\u001b[0;32m     11\u001b[0m \u001b[38;5;28;01mfrom\u001b[39;00m\u001b[38;5;250m \u001b[39m\u001b[38;5;21;01mazure\u001b[39;00m\u001b[38;5;21;01m.\u001b[39;00m\u001b[38;5;21;01mai\u001b[39;00m\u001b[38;5;21;01m.\u001b[39;00m\u001b[38;5;21;01mformrecognizer\u001b[39;00m\u001b[38;5;250m \u001b[39m\u001b[38;5;28;01mimport\u001b[39;00m DocumentAnalysisClient\n",
      "File \u001b[1;32mc:\\Users\\j7843\\Documents\\DAIA\\GEA_llm_pdf_processing_group17\\.venv\\lib\\site-packages\\numpy\\__init__.py:132\u001b[0m\n\u001b[0;32m    128\u001b[0m \u001b[38;5;28;01mexcept\u001b[39;00m \u001b[38;5;167;01mImportError\u001b[39;00m \u001b[38;5;28;01mas\u001b[39;00m e:\n\u001b[0;32m    129\u001b[0m     msg \u001b[38;5;241m=\u001b[39m \u001b[38;5;124m\"\"\"\u001b[39m\u001b[38;5;124mError importing numpy: you should not try to import numpy from\u001b[39m\n\u001b[0;32m    130\u001b[0m \u001b[38;5;124m    its source directory; please exit the numpy source tree, and relaunch\u001b[39m\n\u001b[0;32m    131\u001b[0m \u001b[38;5;124m    your python interpreter from there.\u001b[39m\u001b[38;5;124m\"\"\"\u001b[39m\n\u001b[1;32m--> 132\u001b[0m     \u001b[38;5;28;01mraise\u001b[39;00m \u001b[38;5;167;01mImportError\u001b[39;00m(msg) \u001b[38;5;28;01mfrom\u001b[39;00m\u001b[38;5;250m \u001b[39m\u001b[38;5;21;01me\u001b[39;00m\n\u001b[0;32m    134\u001b[0m \u001b[38;5;28;01mfrom\u001b[39;00m\u001b[38;5;250m \u001b[39m\u001b[38;5;21;01m.\u001b[39;00m\u001b[38;5;250m \u001b[39m\u001b[38;5;28;01mimport\u001b[39;00m _core\n\u001b[0;32m    135\u001b[0m \u001b[38;5;28;01mfrom\u001b[39;00m\u001b[38;5;250m \u001b[39m\u001b[38;5;21;01m.\u001b[39;00m\u001b[38;5;21;01m_core\u001b[39;00m\u001b[38;5;250m \u001b[39m\u001b[38;5;28;01mimport\u001b[39;00m (\n\u001b[0;32m    136\u001b[0m     False_, ScalarType, True_,\n\u001b[0;32m    137\u001b[0m     \u001b[38;5;28mabs\u001b[39m, absolute, acos, acosh, add, \u001b[38;5;28mall\u001b[39m, allclose,\n\u001b[1;32m   (...)\u001b[0m\n\u001b[0;32m    182\u001b[0m     vecmat, void, vstack, where, zeros, zeros_like\n\u001b[0;32m    183\u001b[0m )\n",
      "\u001b[1;31mImportError\u001b[0m: Error importing numpy: you should not try to import numpy from\n        its source directory; please exit the numpy source tree, and relaunch\n        your python interpreter from there."
     ]
    }
   ],
   "source": [
    "#import fitz  \n",
    "#from PIL import Image\n",
    "#import pytesseract\n",
    "import io\n",
    "import re\n",
    "import os\n",
    "#pytesseract.pytesseract.tesseract_cmd = r\"C:\\Program Files\\Tesseract-OCR\\tesseract.exe\"\n",
    "#import easyocr\n",
    "import numpy as np\n",
    "from dotenv import load_dotenv\n",
    "from azure.ai.formrecognizer import DocumentAnalysisClient\n",
    "from azure.core.credentials import AzureKeyCredential\n",
    "from azure.core.exceptions import ClientAuthenticationError, HttpResponseError\n",
    "load_dotenv()\n"
   ]
  },
  {
   "cell_type": "code",
   "execution_count": null,
   "id": "6ffa13ca",
   "metadata": {},
   "outputs": [],
   "source": [
    "endpoint = os.getenv(\"AZURE_FORM_RECOGNIZER_ENDPOINT\")\n",
    "key = os.getenv(\"AZURE_FORM_RECOGNIZER_KEY\")\n",
    "endpoint=\"https://group3documentintelligence.cognitiveservices.azure.com/\"\n",
    "key = \"10sJZXvhWvbBSfZ5NbJ4Mn3zJ7dJLBPcxH2cneXTub9ChN9MWGzUJQQJ99BEAC5RqLJXJ3w3AAALACOGL4P1\"\n",
    "\n",
    "client = DocumentAnalysisClient(\n",
    "    endpoint=endpoint,\n",
    "    credential=AzureKeyCredential(key)\n",
    ")\n",
    "\n",
    "with open(\"Resource/Übersicht3.pdf\", \"rb\") as f:\n",
    "    poller = client.begin_analyze_document(\"prebuilt-layout\", document=f)\n",
    "    result = poller.result()\n",
    "\n",
    "for i, page in enumerate(result.pages, start=1):\n",
    "    lines = [line.content for line in page.lines]\n",
    "    page_text = \" \".join(lines)\n",
    "    output_path = f\"Text/page_{i}.txt\"\n",
    "    with open(output_path, \"w\", encoding=\"utf-8\") as out_file:\n",
    "        out_file.write(page_text)\n",
    "\n",
    "    print(f\"✅ Page {i} saved to {output_path}\")\n"
   ]
  },
  {
   "cell_type": "code",
   "execution_count": 99,
   "id": "2e814ee4",
   "metadata": {},
   "outputs": [
    {
     "name": "stdout",
     "output_type": "stream",
     "text": [
      "{'5. EINSTELLWERTE DER SICHERHEITSGERÄTE GEGEN UNZULÄSSIGE DRÜCKE ', '3. Höchstzulässige Betriebsdrücke ', '6. Einstellwerte der Sicherheitsgeräte gegen unzulässige Temperaturen Pt ', '9. HAUPTBAUTEILE ', '4. Hilfs- und Steuerspannungen Magnetventile für ', '1. Umgebungsbedingungen · Umgebungstemperatur max.', '5. Einstellwerte der Sicherheitsgeräte gegen unzulässige Drücke Druckschalter (', '2. PROJEKTIERTE BETRIEBSBEDINGUNGEN ', '8. Richtwerte Betrieb des Verdichteraggregates Mindestverstellzeit des Regelschlittens von Min- zur Max-Endlage bzw. umgekehrt ', '2. Projektierte Betriebsbedingungen Sättigungstemperatur Verdichtersaugdruck to -', '8. RICHTWERTE BETRIEB DES VERDICHTERAGGREGATES ', '1. UMGEBUNGSBEDINGUNGEN ', '9. Hauptbauteile Bezeichnung Typ Verdichter F-', '4. EINSTELLWERTE FÜR SICHERHEITSVENTILE ', '6. EINSTELLWERTE DER SICHERHEITSGERÄTE GEGEN Kältemittelkreislauf ', '3. HÖCHSTZULÄSSIGE BETRIEBSDRÜCKE ', '0. SENSOREN ', '2. Öltemperatur zulässiger Bereich der Öltemperatur ', '1. Einstellwerte für Verdichtungsendtemperatur anzustrebender Wert t ', '7. SONSTIGE EINSTELLWERTE VON SCHALTERN UND ARMATUREN ', '3. Ölfüllung Erstfüllung ca. ', '7. Sonstige Einstellwerte von Schaltern und Armaturen Öldruckregelventil ('}\n"
     ]
    }
   ],
   "source": [
    "def primera_posicion_espacio(texto):\n",
    "    return texto.find(' ')  # devuelve índice del primer espacio, o -1 si no hay\n",
    "\n",
    "def number_posicion_numero(texto,number):\n",
    "    count = 0\n",
    "    for i, c in enumerate(texto):\n",
    "        if c.isdigit():\n",
    "            count += 1\n",
    "            if count == number:\n",
    "                return i\n",
    "    return -1  # si no hay un segundo número, devuelve -1\n",
    "\n",
    "index = set()\n",
    "texto1 = \"Technische Angaben Schraubenverdichteraggregat FH-5GC Übersicht 1. UMGEBUNGSBEDINGUNGEN 2 2. PROJEKTIERTE BETRIEBSBEDINGUNGEN 2 3. HÖCHSTZULÄSSIGE BETRIEBSDRÜCKE 2 4. EINSTELLWERTE FÜR SICHERHEITSVENTILE 2 5. EINSTELLWERTE DER SICHERHEITSGERÄTE GEGEN UNZULÄSSIGE DRÜCKE 3 6. EINSTELLWERTE DER SICHERHEITSGERÄTE GEGEN Kältemittelkreislauf 23 bar Überdruck UNZULÄSSIGE TEMPERATUREN 3 Ölkreislauf 23 bar Überdruck 7. SONSTIGE EINSTELLWERTE VON SCHALTERN UND ARMATUREN 3 8. RICHTWERTE BETRIEB DES VERDICHTERAGGREGATES 3 9. HAUPTBAUTEILE 10. SENSOREN 4 AFD/ Sche. (Ausgabe/ edition 02.05.96) GRassa KAB Refrigeration Equipment 1. Umgebungsbedingungen · Umgebungstemperatur max.40 ℃ min.5 ℃ · frei von Flüssigkeitsniederschlägen 2. Projektierte Betriebsbedingungen Sättigungstemperatur Verdichtersaugdruck to -5 ℃ +5 ℃ Überhitzung im Verdichtersaugstutzen 10 K 10 K Sättigungstemperatur Verdichtungsenddruck tx +27 °℃ 30 °℃ Aufladung des Verdichters nein nein 3. Höchstzulässige Betriebsdrücke 4. Einstellwerte für Sicherheitsventile Sicherheitsventil (3.1) Ölabscheider DN 15 Überströmventil (1.1) (von Verdichterdruck- zur -saugseite) DN 20 4 23 bar Überdruck 20 bar Überdruck Seite: von Page: of 2 4 631726.DOC Revision 0 KÜHLAUTOMAT Berlin GmbH KAB\"\n",
    "texto2 = \"Technische Angaben Schraubenverdichteraggregat FH-5GC 5. Einstellwerte der Sicherheitsgeräte gegen unzulässige Drücke Druckschalter (15.8) Verdichtungsenddruck Abschaltdruck 15 bar Überdruck Saugdruckschalter (15.7) Abschaltdruck 1,5 bar Überdruck Differenzdruckwächter (15.9) Ölkreislaufüberwachung Abschaltdifferenzdruck ≤ 0,5 bar Differenzdruckwächter (15.10) Ölgrobfilterüberwachung Abschaltdifferenzdruck ≥ 2 bar 6. Einstellwerte der Sicherheitsgeräte gegen unzulässige Temperaturen Pt 100 (17.2) für Verdichtungsendtemperatur Schaltwert 90 °℃ Pt 100 (17.3) für Öltemperatur Schaltwert 60 ℃ Temperaturbegrenzer (3.10) Heizkörpertemperatur Schaltwert 150°℃ Thermostat (3.9) Heizkörpertemperatur Einstellwert 70°C 7. Sonstige Einstellwerte von Schaltern und Armaturen Öldruckregelventil (8.0) 4,5+0,5 bar Absperrventil (18.2) in Gasschwingungsschutzleitung geschlossen AFD/ Sche. (Ausgabe/ edition 02.05.96) GRassaiKAB Refrigeration Equipment 8. Richtwerte Betrieb des Verdichteraggregates Mindestverstellzeit des Regelschlittens von Min- zur Max-Endlage bzw. umgekehrt 30s Anzustrebende Verstellzeit des Regelschlittens von Min- zur Max-Endlage bzw. umgekehrt 60s Bei Anfahrvorgängen und kaltem Öl und bei niedrigen Druckdifferenzen zwischem dem Verdichtungsenddruck und Saugdruck sind die Verstellzeiten höher als bei Betriebsbedingungen. 8.1. Einstellwerte für Verdichtungsendtemperatur anzustrebender Wert t 80°℃ maximaler Wert tmax 90°C 8.2. Öltemperatur zulässiger Bereich der Öltemperatur 35 - 55°C töl anzustrebende Öltemperatur töl 45°℃ 8.3. Ölfüllung Erstfüllung ca. 110 1 8.4. Hilfs- und Steuerspannungen Magnetventile für 230 V,AC Leistungsregelung und Vi.Verst. Überwachungsgeräte, Druck und Temperatur, Füllstand 24 V,DC Wegsensor für Regelschlitten 24 V,DC Ölheizung vom Kraftstromfeld 2 × 440 V, AC 0. 2 × 220 V, AC Seite: 3 von Page: of 4 631726.DOC Revision 0 KÜHLAUTOMAT Berlin GmbH KAB\"\n",
    "texto3 = \"Technische Angaben Schraubenverdichteraggregat FH-5GC 9. Hauptbauteile Bezeichnung Typ Verdichter F-5 Leistungsregelung MV-Block S 25 Antriebsmotor P 200 L, 66 KW Beistellung Kupplung 66 E 60 Dm 60 Ölpumpe LG 0/10 Ölheizung 380-380-1200 (2x440V o. 2×220V) Ölabscheider Dm 508 (3) TÜV Ölkühler 12/1100/35KW Saugfilter 80/100-40.1 Ölfilter FE140×34 / 459 NH3 Steuerung GRENCO B.V. Software GRENCO B.V. AFD/ Sche. (Ausgabe/ edition 02.05.96) Refrigeration Equipment 10.Sensoren Bezeichnung Typ Saugdruckstörung RT 1A Saugdruckregelung AKS 33 Enddruckstörung RT 6AW Enddruck AKS 33 Öldifferenzdruck Ölkreislaufüber- wachung RT 260 A Öldifferenzdruck Filterüberwachung RT 260 A Öldruck nach Ölpumpe AKS 33 Ansaugtemperatur Pt100 Endtemperatur Pt100 Öltemperatur Pt100 Öltemperatur- regelung Pt100 Wegsensor Regelschlitten HDT Motorstrom Wandler und Meßumformer im Schaltschrank 631726.DOC Revision 0 Seite: von Page: of 4 4 KÜHLAUTOMAT Berlin GmbH KAB\"\n",
    "\n",
    "def index_from_text(texto):\n",
    "    while len(texto)>0:\n",
    "        first_position_number = number_posicion_numero(texto,1)\n",
    "        \n",
    "        if texto[first_position_number+1] == \".\" and texto[first_position_number+2] == \" \" and texto[first_position_number + 3].isalpha():\n",
    "            \n",
    "            second_position_number = number_posicion_numero(texto,2)\n",
    "            first_index = texto[first_position_number:second_position_number]\n",
    "            index.add(first_index)\n",
    "            texto = texto[second_position_number+1:]\n",
    "        \n",
    "        # elif texto[first_position_number+1] == \".\" and texto[first_position_number+2].isdigit():\n",
    "        \n",
    "        #     third_position_number = number_posicion_numero(texto,3)\n",
    "        #     first_index = texto[first_position_number:third_position_number]\n",
    "        #     print(first_index)\n",
    "        #     texto = texto[third_position_number+1:]\n",
    "        \n",
    "        else: \n",
    "            texto = texto[first_position_number+1:]\n",
    "            if first_position_number == -1:\n",
    "                break\n",
    "\n",
    "index_from_text(texto1)\n",
    "index_from_text(texto2)\n",
    "index_from_text(texto3)\n",
    "print(index)"
   ]
  },
  {
   "cell_type": "code",
   "execution_count": 2,
   "id": "fd1ec842",
   "metadata": {},
   "outputs": [
    {
     "ename": "AttributeError",
     "evalue": "partially initialized module 'torch' has no attribute '_subclasses' (most likely due to a circular import)",
     "output_type": "error",
     "traceback": [
      "\u001b[31m---------------------------------------------------------------------------\u001b[39m",
      "\u001b[31mAttributeError\u001b[39m                            Traceback (most recent call last)",
      "\u001b[36mCell\u001b[39m\u001b[36m \u001b[39m\u001b[32mIn[2]\u001b[39m\u001b[32m, line 1\u001b[39m\n\u001b[32m----> \u001b[39m\u001b[32m1\u001b[39m \u001b[38;5;28;01mfrom\u001b[39;00m\u001b[38;5;250m \u001b[39m\u001b[34;01mtransformers\u001b[39;00m\u001b[38;5;250m \u001b[39m\u001b[38;5;28;01mimport\u001b[39;00m AutoTokenizer, AutoModelForCausalLM\n\u001b[32m      2\u001b[39m \u001b[38;5;28;01mimport\u001b[39;00m\u001b[38;5;250m \u001b[39m\u001b[34;01mtorch\u001b[39;00m\n\u001b[32m      4\u001b[39m \u001b[38;5;66;03m# Choose the instruct model variant (e.g., 4k context version)\u001b[39;00m\n",
      "\u001b[36mFile \u001b[39m\u001b[32mc:\\Users\\j7843\\Documents\\DAIA\\GEA_llm_pdf_processing_group17\\.venv\\Lib\\site-packages\\transformers\\__init__.py:27\u001b[39m\n\u001b[32m     24\u001b[39m \u001b[38;5;28;01mfrom\u001b[39;00m\u001b[38;5;250m \u001b[39m\u001b[34;01mtyping\u001b[39;00m\u001b[38;5;250m \u001b[39m\u001b[38;5;28;01mimport\u001b[39;00m TYPE_CHECKING\n\u001b[32m     26\u001b[39m \u001b[38;5;66;03m# Check the dependencies satisfy the minimal versions required.\u001b[39;00m\n\u001b[32m---> \u001b[39m\u001b[32m27\u001b[39m \u001b[38;5;28;01mfrom\u001b[39;00m\u001b[38;5;250m \u001b[39m\u001b[34;01m.\u001b[39;00m\u001b[38;5;250m \u001b[39m\u001b[38;5;28;01mimport\u001b[39;00m dependency_versions_check\n\u001b[32m     28\u001b[39m \u001b[38;5;28;01mfrom\u001b[39;00m\u001b[38;5;250m \u001b[39m\u001b[34;01m.\u001b[39;00m\u001b[34;01mutils\u001b[39;00m\u001b[38;5;250m \u001b[39m\u001b[38;5;28;01mimport\u001b[39;00m (\n\u001b[32m     29\u001b[39m     OptionalDependencyNotAvailable,\n\u001b[32m     30\u001b[39m     _LazyModule,\n\u001b[32m   (...)\u001b[39m\u001b[32m     49\u001b[39m     logging,\n\u001b[32m     50\u001b[39m )\n\u001b[32m     51\u001b[39m \u001b[38;5;28;01mfrom\u001b[39;00m\u001b[38;5;250m \u001b[39m\u001b[34;01m.\u001b[39;00m\u001b[34;01mutils\u001b[39;00m\u001b[34;01m.\u001b[39;00m\u001b[34;01mimport_utils\u001b[39;00m\u001b[38;5;250m \u001b[39m\u001b[38;5;28;01mimport\u001b[39;00m define_import_structure\n",
      "\u001b[36mFile \u001b[39m\u001b[32mc:\\Users\\j7843\\Documents\\DAIA\\GEA_llm_pdf_processing_group17\\.venv\\Lib\\site-packages\\transformers\\dependency_versions_check.py:16\u001b[39m\n\u001b[32m      1\u001b[39m \u001b[38;5;66;03m# Copyright 2020 The HuggingFace Team. All rights reserved.\u001b[39;00m\n\u001b[32m      2\u001b[39m \u001b[38;5;66;03m#\u001b[39;00m\n\u001b[32m      3\u001b[39m \u001b[38;5;66;03m# Licensed under the Apache License, Version 2.0 (the \"License\");\u001b[39;00m\n\u001b[32m   (...)\u001b[39m\u001b[32m     12\u001b[39m \u001b[38;5;66;03m# See the License for the specific language governing permissions and\u001b[39;00m\n\u001b[32m     13\u001b[39m \u001b[38;5;66;03m# limitations under the License.\u001b[39;00m\n\u001b[32m     15\u001b[39m \u001b[38;5;28;01mfrom\u001b[39;00m\u001b[38;5;250m \u001b[39m\u001b[34;01m.\u001b[39;00m\u001b[34;01mdependency_versions_table\u001b[39;00m\u001b[38;5;250m \u001b[39m\u001b[38;5;28;01mimport\u001b[39;00m deps\n\u001b[32m---> \u001b[39m\u001b[32m16\u001b[39m \u001b[38;5;28;01mfrom\u001b[39;00m\u001b[38;5;250m \u001b[39m\u001b[34;01m.\u001b[39;00m\u001b[34;01mutils\u001b[39;00m\u001b[34;01m.\u001b[39;00m\u001b[34;01mversions\u001b[39;00m\u001b[38;5;250m \u001b[39m\u001b[38;5;28;01mimport\u001b[39;00m require_version, require_version_core\n\u001b[32m     19\u001b[39m \u001b[38;5;66;03m# define which module versions we always want to check at run time\u001b[39;00m\n\u001b[32m     20\u001b[39m \u001b[38;5;66;03m# (usually the ones defined in `install_requires` in setup.py)\u001b[39;00m\n\u001b[32m     21\u001b[39m \u001b[38;5;66;03m#\u001b[39;00m\n\u001b[32m     22\u001b[39m \u001b[38;5;66;03m# order specific notes:\u001b[39;00m\n\u001b[32m     23\u001b[39m \u001b[38;5;66;03m# - tqdm must be checked before tokenizers\u001b[39;00m\n\u001b[32m     25\u001b[39m pkgs_to_check_at_runtime = [\n\u001b[32m     26\u001b[39m     \u001b[33m\"\u001b[39m\u001b[33mpython\u001b[39m\u001b[33m\"\u001b[39m,\n\u001b[32m     27\u001b[39m     \u001b[33m\"\u001b[39m\u001b[33mtqdm\u001b[39m\u001b[33m\"\u001b[39m,\n\u001b[32m   (...)\u001b[39m\u001b[32m     37\u001b[39m     \u001b[33m\"\u001b[39m\u001b[33mpyyaml\u001b[39m\u001b[33m\"\u001b[39m,\n\u001b[32m     38\u001b[39m ]\n",
      "\u001b[36mFile \u001b[39m\u001b[32mc:\\Users\\j7843\\Documents\\DAIA\\GEA_llm_pdf_processing_group17\\.venv\\Lib\\site-packages\\transformers\\utils\\__init__.py:24\u001b[39m\n\u001b[32m     21\u001b[39m \u001b[38;5;28;01mfrom\u001b[39;00m\u001b[38;5;250m \u001b[39m\u001b[34;01mpackaging\u001b[39;00m\u001b[38;5;250m \u001b[39m\u001b[38;5;28;01mimport\u001b[39;00m version\n\u001b[32m     23\u001b[39m \u001b[38;5;28;01mfrom\u001b[39;00m\u001b[38;5;250m \u001b[39m\u001b[34;01m.\u001b[39;00m\u001b[34;01m.\u001b[39;00m\u001b[38;5;250m \u001b[39m\u001b[38;5;28;01mimport\u001b[39;00m __version__\n\u001b[32m---> \u001b[39m\u001b[32m24\u001b[39m \u001b[38;5;28;01mfrom\u001b[39;00m\u001b[38;5;250m \u001b[39m\u001b[34;01m.\u001b[39;00m\u001b[34;01margs_doc\u001b[39;00m\u001b[38;5;250m \u001b[39m\u001b[38;5;28;01mimport\u001b[39;00m (\n\u001b[32m     25\u001b[39m     ClassAttrs,\n\u001b[32m     26\u001b[39m     ClassDocstring,\n\u001b[32m     27\u001b[39m     ImageProcessorArgs,\n\u001b[32m     28\u001b[39m     ModelArgs,\n\u001b[32m     29\u001b[39m     auto_class_docstring,\n\u001b[32m     30\u001b[39m     auto_docstring,\n\u001b[32m     31\u001b[39m     parse_docstring,\n\u001b[32m     32\u001b[39m     set_min_indent,\n\u001b[32m     33\u001b[39m     source_args_doc,\n\u001b[32m     34\u001b[39m )\n\u001b[32m     35\u001b[39m \u001b[38;5;28;01mfrom\u001b[39;00m\u001b[38;5;250m \u001b[39m\u001b[34;01m.\u001b[39;00m\u001b[34;01mbackbone_utils\u001b[39;00m\u001b[38;5;250m \u001b[39m\u001b[38;5;28;01mimport\u001b[39;00m BackboneConfigMixin, BackboneMixin\n\u001b[32m     36\u001b[39m \u001b[38;5;28;01mfrom\u001b[39;00m\u001b[38;5;250m \u001b[39m\u001b[34;01m.\u001b[39;00m\u001b[34;01mchat_template_utils\u001b[39;00m\u001b[38;5;250m \u001b[39m\u001b[38;5;28;01mimport\u001b[39;00m DocstringParsingException, TypeHintParsingException, get_json_schema\n",
      "\u001b[36mFile \u001b[39m\u001b[32mc:\\Users\\j7843\\Documents\\DAIA\\GEA_llm_pdf_processing_group17\\.venv\\Lib\\site-packages\\transformers\\utils\\args_doc.py:30\u001b[39m\n\u001b[32m     22\u001b[39m \u001b[38;5;28;01mimport\u001b[39;00m\u001b[38;5;250m \u001b[39m\u001b[34;01mregex\u001b[39;00m\u001b[38;5;250m \u001b[39m\u001b[38;5;28;01mas\u001b[39;00m\u001b[38;5;250m \u001b[39m\u001b[34;01mre\u001b[39;00m\n\u001b[32m     24\u001b[39m \u001b[38;5;28;01mfrom\u001b[39;00m\u001b[38;5;250m \u001b[39m\u001b[34;01m.\u001b[39;00m\u001b[34;01mdoc\u001b[39;00m\u001b[38;5;250m \u001b[39m\u001b[38;5;28;01mimport\u001b[39;00m (\n\u001b[32m     25\u001b[39m     MODELS_TO_PIPELINE,\n\u001b[32m     26\u001b[39m     PIPELINE_TASKS_TO_SAMPLE_DOCSTRINGS,\n\u001b[32m     27\u001b[39m     PT_SAMPLE_DOCSTRINGS,\n\u001b[32m     28\u001b[39m     _prepare_output_docstrings,\n\u001b[32m     29\u001b[39m )\n\u001b[32m---> \u001b[39m\u001b[32m30\u001b[39m \u001b[38;5;28;01mfrom\u001b[39;00m\u001b[38;5;250m \u001b[39m\u001b[34;01m.\u001b[39;00m\u001b[34;01mgeneric\u001b[39;00m\u001b[38;5;250m \u001b[39m\u001b[38;5;28;01mimport\u001b[39;00m ModelOutput\n\u001b[32m     33\u001b[39m PATH_TO_TRANSFORMERS = Path(\u001b[33m\"\u001b[39m\u001b[33msrc\u001b[39m\u001b[33m\"\u001b[39m).resolve() / \u001b[33m\"\u001b[39m\u001b[33mtransformers\u001b[39m\u001b[33m\"\u001b[39m\n\u001b[32m     36\u001b[39m AUTODOC_FILES = [\n\u001b[32m     37\u001b[39m     \u001b[33m\"\u001b[39m\u001b[33mconfiguration_*.py\u001b[39m\u001b[33m\"\u001b[39m,\n\u001b[32m     38\u001b[39m     \u001b[33m\"\u001b[39m\u001b[33mmodeling_*.py\u001b[39m\u001b[33m\"\u001b[39m,\n\u001b[32m   (...)\u001b[39m\u001b[32m     43\u001b[39m     \u001b[33m\"\u001b[39m\u001b[33mfeature_extractor_*.py\u001b[39m\u001b[33m\"\u001b[39m,\n\u001b[32m     44\u001b[39m ]\n",
      "\u001b[36mFile \u001b[39m\u001b[32mc:\\Users\\j7843\\Documents\\DAIA\\GEA_llm_pdf_processing_group17\\.venv\\Lib\\site-packages\\transformers\\utils\\generic.py:46\u001b[39m\n\u001b[32m     34\u001b[39m \u001b[38;5;28;01mfrom\u001b[39;00m\u001b[38;5;250m \u001b[39m\u001b[34;01m.\u001b[39;00m\u001b[34;01mimport_utils\u001b[39;00m\u001b[38;5;250m \u001b[39m\u001b[38;5;28;01mimport\u001b[39;00m (\n\u001b[32m     35\u001b[39m     get_torch_version,\n\u001b[32m     36\u001b[39m     is_flax_available,\n\u001b[32m   (...)\u001b[39m\u001b[32m     40\u001b[39m     is_torch_fx_proxy,\n\u001b[32m     41\u001b[39m )\n\u001b[32m     44\u001b[39m \u001b[38;5;28;01mif\u001b[39;00m is_torch_available():\n\u001b[32m     45\u001b[39m     \u001b[38;5;66;03m# required for @can_return_tuple decorator to work with torchdynamo\u001b[39;00m\n\u001b[32m---> \u001b[39m\u001b[32m46\u001b[39m     \u001b[38;5;28;01mimport\u001b[39;00m\u001b[38;5;250m \u001b[39m\u001b[34;01mtorch\u001b[39;00m  \u001b[38;5;66;03m# noqa: F401\u001b[39;00m\n\u001b[32m     49\u001b[39m \u001b[38;5;28;01mclass\u001b[39;00m\u001b[38;5;250m \u001b[39m\u001b[34;01mcached_property\u001b[39;00m(\u001b[38;5;28mproperty\u001b[39m):\n\u001b[32m     50\u001b[39m \u001b[38;5;250m    \u001b[39m\u001b[33;03m\"\"\"\u001b[39;00m\n\u001b[32m     51\u001b[39m \u001b[33;03m    Descriptor that mimics @property but caches output in member variable.\u001b[39;00m\n\u001b[32m     52\u001b[39m \n\u001b[32m   (...)\u001b[39m\u001b[32m     55\u001b[39m \u001b[33;03m    Built-in in functools from Python 3.8.\u001b[39;00m\n\u001b[32m     56\u001b[39m \u001b[33;03m    \"\"\"\u001b[39;00m\n",
      "\u001b[36mFile \u001b[39m\u001b[32mc:\\Users\\j7843\\Documents\\DAIA\\GEA_llm_pdf_processing_group17\\.venv\\Lib\\site-packages\\torch\\__init__.py:2611\u001b[39m\n\u001b[32m   2607\u001b[39m \u001b[38;5;28;01mfrom\u001b[39;00m\u001b[38;5;250m \u001b[39m\u001b[34;01mtorch\u001b[39;00m\u001b[34;01m.\u001b[39;00m\u001b[34;01mfunc\u001b[39;00m\u001b[38;5;250m \u001b[39m\u001b[38;5;28;01mimport\u001b[39;00m vmap \u001b[38;5;28;01mas\u001b[39;00m vmap\n\u001b[32m   2610\u001b[39m \u001b[38;5;28;01mif\u001b[39;00m \u001b[38;5;129;01mnot\u001b[39;00m TYPE_CHECKING:\n\u001b[32m-> \u001b[39m\u001b[32m2611\u001b[39m     \u001b[38;5;28;01mfrom\u001b[39;00m\u001b[38;5;250m \u001b[39m\u001b[34;01mtorch\u001b[39;00m\u001b[38;5;250m \u001b[39m\u001b[38;5;28;01mimport\u001b[39;00m _meta_registrations\n\u001b[32m   2613\u001b[39m \u001b[38;5;66;03m# Enable CUDA Sanitizer\u001b[39;00m\n\u001b[32m   2614\u001b[39m \u001b[38;5;28;01mif\u001b[39;00m \u001b[33m\"\u001b[39m\u001b[33mTORCH_CUDA_SANITIZER\u001b[39m\u001b[33m\"\u001b[39m \u001b[38;5;129;01min\u001b[39;00m os.environ:\n",
      "\u001b[36mFile \u001b[39m\u001b[32mc:\\Users\\j7843\\Documents\\DAIA\\GEA_llm_pdf_processing_group17\\.venv\\Lib\\site-packages\\torch\\_meta_registrations.py:12\u001b[39m\n\u001b[32m     10\u001b[39m \u001b[38;5;28;01mimport\u001b[39;00m\u001b[38;5;250m \u001b[39m\u001b[34;01mtorch\u001b[39;00m\u001b[34;01m.\u001b[39;00m\u001b[34;01m_prims_common\u001b[39;00m\u001b[38;5;250m \u001b[39m\u001b[38;5;28;01mas\u001b[39;00m\u001b[38;5;250m \u001b[39m\u001b[34;01mutils\u001b[39;00m\n\u001b[32m     11\u001b[39m \u001b[38;5;28;01mfrom\u001b[39;00m\u001b[38;5;250m \u001b[39m\u001b[34;01mtorch\u001b[39;00m\u001b[38;5;250m \u001b[39m\u001b[38;5;28;01mimport\u001b[39;00m SymBool, SymFloat, Tensor\n\u001b[32m---> \u001b[39m\u001b[32m12\u001b[39m \u001b[38;5;28;01mfrom\u001b[39;00m\u001b[38;5;250m \u001b[39m\u001b[34;01mtorch\u001b[39;00m\u001b[34;01m.\u001b[39;00m\u001b[34;01m_decomp\u001b[39;00m\u001b[38;5;250m \u001b[39m\u001b[38;5;28;01mimport\u001b[39;00m (\n\u001b[32m     13\u001b[39m     _add_op_to_registry,\n\u001b[32m     14\u001b[39m     _convert_out_params,\n\u001b[32m     15\u001b[39m     global_decomposition_table,\n\u001b[32m     16\u001b[39m     meta_table,\n\u001b[32m     17\u001b[39m )\n\u001b[32m     18\u001b[39m \u001b[38;5;28;01mfrom\u001b[39;00m\u001b[38;5;250m \u001b[39m\u001b[34;01mtorch\u001b[39;00m\u001b[34;01m.\u001b[39;00m\u001b[34;01m_ops\u001b[39;00m\u001b[38;5;250m \u001b[39m\u001b[38;5;28;01mimport\u001b[39;00m OpOverload\n\u001b[32m     19\u001b[39m \u001b[38;5;28;01mfrom\u001b[39;00m\u001b[38;5;250m \u001b[39m\u001b[34;01mtorch\u001b[39;00m\u001b[34;01m.\u001b[39;00m\u001b[34;01m_prims\u001b[39;00m\u001b[38;5;250m \u001b[39m\u001b[38;5;28;01mimport\u001b[39;00m _prim_elementwise_meta, ELEMENTWISE_PRIM_TYPE_PROMOTION_KIND\n",
      "\u001b[36mFile \u001b[39m\u001b[32mc:\\Users\\j7843\\Documents\\DAIA\\GEA_llm_pdf_processing_group17\\.venv\\Lib\\site-packages\\torch\\_decomp\\__init__.py:277\u001b[39m\n\u001b[32m    275\u001b[39m \u001b[38;5;66;03m# populate the table\u001b[39;00m\n\u001b[32m    276\u001b[39m \u001b[38;5;28;01mimport\u001b[39;00m\u001b[38;5;250m \u001b[39m\u001b[34;01mtorch\u001b[39;00m\u001b[34;01m.\u001b[39;00m\u001b[34;01m_decomp\u001b[39;00m\u001b[34;01m.\u001b[39;00m\u001b[34;01mdecompositions\u001b[39;00m\n\u001b[32m--> \u001b[39m\u001b[32m277\u001b[39m \u001b[38;5;28;01mimport\u001b[39;00m\u001b[38;5;250m \u001b[39m\u001b[34;01mtorch\u001b[39;00m\u001b[34;01m.\u001b[39;00m\u001b[34;01m_refs\u001b[39;00m\n\u001b[32m    280\u001b[39m \u001b[38;5;28;01mdef\u001b[39;00m\u001b[38;5;250m \u001b[39m\u001b[34mcore_aten_decompositions\u001b[39m() -> \u001b[33m\"\u001b[39m\u001b[33mCustomDecompTable\u001b[39m\u001b[33m\"\u001b[39m:\n\u001b[32m    281\u001b[39m     \u001b[38;5;28;01mfrom\u001b[39;00m\u001b[38;5;250m \u001b[39m\u001b[34;01mtorch\u001b[39;00m\u001b[34;01m.\u001b[39;00m\u001b[34;01mexport\u001b[39;00m\u001b[34;01m.\u001b[39;00m\u001b[34;01mexported_program\u001b[39;00m\u001b[38;5;250m \u001b[39m\u001b[38;5;28;01mimport\u001b[39;00m default_decompositions\n",
      "\u001b[36mFile \u001b[39m\u001b[32mc:\\Users\\j7843\\Documents\\DAIA\\GEA_llm_pdf_processing_group17\\.venv\\Lib\\site-packages\\torch\\_refs\\__init__.py:3292\u001b[39m\n\u001b[32m   3288\u001b[39m         rstd = _maybe_convert_to_dtype(rstd, \u001b[38;5;28minput\u001b[39m.dtype)  \u001b[38;5;66;03m# type: ignore[assignment]\u001b[39;00m\n\u001b[32m   3289\u001b[39m     \u001b[38;5;28;01mreturn\u001b[39;00m (out, mean, rstd)\n\u001b[32m-> \u001b[39m\u001b[32m3292\u001b[39m \u001b[38;5;129m@torch\u001b[39m\u001b[43m.\u001b[49m\u001b[43m_subclasses\u001b[49m.fake_impls.register_op_impl(aten.native_layer_norm.default)\n\u001b[32m   3293\u001b[39m \u001b[38;5;28;01mdef\u001b[39;00m\u001b[38;5;250m \u001b[39m\u001b[34mnative_layer_norm_fake\u001b[39m(fake_mode, func, *args, **kwargs):\n\u001b[32m   3294\u001b[39m     \u001b[38;5;28;01mreturn\u001b[39;00m native_layer_norm(*args)\n\u001b[32m   3297\u001b[39m \u001b[38;5;66;03m# TODO: Adding this as a meta function causes functorch tests to fail when compiled with debug mode.\u001b[39;00m\n\u001b[32m   3298\u001b[39m \u001b[38;5;66;03m# test/test_eager_transforms.py::TestFunctionalizeCPU::test_functionalize_fx_transpose_simple_cpu\u001b[39;00m\n",
      "\u001b[31mAttributeError\u001b[39m: partially initialized module 'torch' has no attribute '_subclasses' (most likely due to a circular import)"
     ]
    }
   ],
   "source": [
    "from transformers import AutoTokenizer, AutoModelForCausalLM\n",
    "import torch\n",
    "\n",
    "# Choose the instruct model variant (e.g., 4k context version)\n",
    "model_id = \"microsoft/phi-3-mini-4k-instruct\"\n",
    "\n",
    "# Load tokenizer and model\n",
    "tokenizer = AutoTokenizer.from_pretrained(model_id)\n",
    "model = AutoModelForCausalLM.from_pretrained(model_id, torch_dtype=torch.float16, device_map=\"auto\")\n",
    "\n",
    "# Prompt\n",
    "prompt = \"Explain what a black hole is in simple terms.\"\n",
    "\n",
    "# Tokenize input\n",
    "inputs = tokenizer(prompt, return_tensors=\"pt\").to(model.device)\n",
    "\n",
    "# Generate response\n",
    "output = model.generate(**inputs, max_new_tokens=200, do_sample=True, temperature=0.7)\n",
    "\n",
    "# Decode output\n",
    "response = tokenizer.decode(output[0], skip_special_tokens=True)\n",
    "print(response)\n",
    "\n",
    "\n"
   ]
  },
  {
   "cell_type": "code",
   "execution_count": 4,
   "id": "007e4ee8",
   "metadata": {},
   "outputs": [],
   "source": [
    "from Jiahao.Helper import sort_toc_lines\n",
    "from Jiahao.Helper import separate_on_number\n",
    "#from Jiahao.Helper import extract_toc_pages\n",
    "from Jiahao.Helper import is_valid_toc_line\n"
   ]
  },
  {
   "cell_type": "code",
   "execution_count": 28,
   "id": "913901cf",
   "metadata": {},
   "outputs": [],
   "source": [
    "def extract_toc_pages(pdf_path, lang='deu'):\n",
    "    doc = fitz.open(pdf_path)  # Open PDF file\n",
    "    toc_pages = {}\n",
    "\n",
    "    for page_num in range(len(doc)):\n",
    "        page = doc.load_page(page_num)\n",
    "        pix = page.get_pixmap(dpi=300)\n",
    "        img = Image.open(io.BytesIO(pix.tobytes()))\n",
    "        text = pytesseract.image_to_string(img, lang=lang)\n",
    "         \n",
    "        if \"übersicht\" in text.lower():\n",
    "        #if \"inhaltsverzeichnis\" in text.lower() or \"übersicht\" in text.lower():\n",
    "            return text, img "
   ]
  },
  {
   "cell_type": "code",
   "execution_count": null,
   "id": "b35b6ad3",
   "metadata": {},
   "outputs": [],
   "source": [
    "def extract_toc_pages(pdf_path, lang='de'):\n",
    "    doc = fitz.open(pdf_path)\n",
    "    reader = easyocr.Reader([lang])  # Initialize EasyOCR with German language\n",
    "    toc_pages = {}\n",
    "\n",
    "    for page_num in range(len(doc)):\n",
    "        page = doc.load_page(page_num)\n",
    "        pix = page.get_pixmap(dpi=300)\n",
    "        img = Image.open(io.BytesIO(pix.tobytes()))\n",
    "        \n",
    "        # Convert PIL Image to numpy array for EasyOCR\n",
    "        img_np = np.array(img)\n",
    "        \n",
    "        # Run OCR\n",
    "        result = reader.readtext(img_np, detail=0)  # detail=0 to get only text strings\n",
    "        \n",
    "        full_text = \"\\n\".join(result)\n",
    "        \n",
    "        if \"übersicht\" in full_text.lower():\n",
    "            return full_text\n",
    "\n",
    "    return None, None  # If no TOC page is found\n"
   ]
  },
  {
   "cell_type": "code",
   "execution_count": null,
   "id": "70e71fdd",
   "metadata": {},
   "outputs": [
    {
     "name": "stderr",
     "output_type": "stream",
     "text": [
      "Neither CUDA nor MPS are available - defaulting to CPU. Note: This module is much faster with a GPU.\n",
      "c:\\Users\\j7843\\Documents\\DAIA\\GEA_llm_pdf_processing_group17\\.venv\\Lib\\site-packages\\torch\\utils\\data\\dataloader.py:665: UserWarning: 'pin_memory' argument is set as true but no accelerator is found, then device pinned memory won't be used.\n",
      "  warnings.warn(warn_msg)\n"
     ]
    },
    {
     "name": "stdout",
     "output_type": "stream",
     "text": [
      "Technische Angaben\n",
      "Grass6\n",
      "KAB\n",
      "Schraubenverdichteraggregat\n",
      "Actriocreticn Eqciamcii\n",
      "FH-SGC\n",
      "Übersicht\n",
      "1.\n",
      "Umgebungsbedingungen\n",
      "Umgebungstemperatur\n",
      "max.40 'C\n",
      "min.5 'C\n",
      "1. UMGEBUNGSBEDINGUNGEN\n",
      "2\n",
      "frei von Flüssigkeitsniederschlägen\n",
      "2. PROJEKTIERTE\n",
      "BETRIEBSBEDINGUNGEN\n",
      "2\n",
      "2. Projektierte\n",
      "Betriebsbedingungen\n",
      "3. HOCHSTZULÄSSIGE\n",
      "Sättigungstemperatur\n",
      "~5 *C\n",
      "+5 'C\n",
      "BETRIEBSDRÜCKE\n",
      "Verdichtersaugdruck to\n",
      "Überhitzung im\n",
      "10 K\n",
      "10 K\n",
      "4. EINSTELLWERTE FÜR\n",
      "Verdichtersaugstutzen\n",
      "SICHERHEITSVENTILE\n",
      "2\n",
      "Sättigungstemperatur\n",
      "+27 'C\n",
      "30 'C\n",
      "Verdichtungsenddruck tK\n",
      "5. EINSTELLWERTE DER\n",
      "Aufladung des Verdichters\n",
      "nein\n",
      "nein\n",
      "SICHERHEITSGERÄTE GEGEN\n",
      "UNZULÄSSIGE DRÜCKE\n",
      "3.\n",
      "Hochstzulässige Betriebsdrücke\n",
      "6. EINSTELLWERTE DER\n",
      "SICHERHEITSGERÄTE GEGEN\n",
      "Kältemittelkreislauf\n",
      "23 bar Überdruck\n",
      "UNZULÄSSIGE TEMPERATUREN\n",
      "3\n",
      "Ölkreislauf\n",
      "23 bar Überdruck\n",
      "7. SONSTIGE EINSTELLWERTE VON\n",
      "SCHALTERN UND ARMATUREN\n",
      "4. Einstellwerte für Sicherheitsventile\n",
      "8. RICHTWERTE BETRIEB DES\n",
      "Sicherheitsventil (3.1)\n",
      "23 bar Überdruck\n",
      "VERDICHTERAGGREGATES\n",
      "Ölabscheider DN 15\n",
      "Überströmventil (1.1)\n",
      "20 bar Überdruck\n",
      "(von Verdichterdruck-\n",
      "9. HAUPTBAUTEILE\n",
      "zur -saugseite) DN 20\n",
      "10. SENSOREN\n",
      "4\n",
      "AFDI Sche.\n",
      "631726.DOC\n",
      "Seite:\n",
      "2\n",
      "von\n",
      "(Ausgabel edition 02.05.96)\n",
      "Revision 0\n",
      "Page:\n",
      "of\n",
      "KÜHLAUTOMAT Berlin GmbH KAB\n"
     ]
    }
   ],
   "source": [
    "text= extract_toc_pages(\"Resource/Übersicht3.pdf\")\n",
    "\n",
    "print(text)\n",
    "\n",
    "\n",
    "process_text = separate_on_number(text)\n",
    "print(process_text)\n",
    "\n",
    "\n",
    "valid_lines = [line for line in process_text if is_valid_toc_line(line)]\n",
    "# for i in valid_lines:\n",
    "#     print(i)\n",
    "\n",
    "sorted_lines = sort_toc_lines(valid_lines)\n",
    "# for i in sorted_lines:\n",
    "#     print(i)\n",
    "\n"
   ]
  },
  {
   "cell_type": "code",
   "execution_count": 43,
   "id": "3151a059",
   "metadata": {},
   "outputs": [
    {
     "name": "stdout",
     "output_type": "stream",
     "text": [
      "[('1.', 'Umgebungsbedingungen\\nUmgebungstemperatur\\nmax'), ('1.', 'UMGEBUNGSBEDINGUNGEN'), ('2.', 'PROJEKTIERTE\\nBETRIEBSBEDINGUNGEN'), ('2.', 'Projektierte\\nBetriebsbedingungen'), ('3.', 'HOCHSTZULÄSSIGE\\nSättigungstemperatur'), ('4.', 'EINSTELLWERTE FÜR\\nVerdichtersaugstutzen\\nSICHERHEITSVENTILE'), ('5.', 'EINSTELLWERTE DER\\nAufladung des Verdichters\\nnein\\nnein\\nSICHERHEITSGERÄTE GEGEN\\nUNZULÄSSIGE DRÜCKE'), ('3.', 'Hochstzulässige Betriebsdrücke'), ('6.', 'EINSTELLWERTE DER\\nSICHERHEITSGERÄTE GEGEN\\nKältemittelkreislauf'), ('7.', 'SONSTIGE EINSTELLWERTE VON\\nSCHALTERN UND ARMATUREN'), ('4.', 'Einstellwerte für Sicherheitsventile'), ('8.', 'RICHTWERTE BETRIEB DES\\nSicherheitsventil'), ('9.', 'HAUPTBAUTEILE\\nzur'), ('10.', 'SENSOREN')]\n"
     ]
    }
   ],
   "source": [
    "import re\n",
    "\n",
    "def extract_numbered_sections(text):\n",
    "    \"\"\"\n",
    "    Extract sections starting with numbers followed by dots and connect them to the following words\n",
    "    until a non-letter/non-space character is found.\n",
    "\n",
    "    Args:\n",
    "        text (str): The full OCR text string.\n",
    "\n",
    "    Returns:\n",
    "        list of tuples: Each tuple is (number_prefix, connected_text)\n",
    "    \"\"\"\n",
    "    pattern = re.compile(r\"(\\d+(?:\\.\\d+)*\\.)\\s\")  # Match number-dot with a space after it\n",
    "    \n",
    "    results = []\n",
    "    pos = 0\n",
    "    length = len(text)\n",
    "    \n",
    "    while pos < length:\n",
    "        match = pattern.search(text, pos)\n",
    "        if not match:\n",
    "            break\n",
    "        \n",
    "        number_prefix = match.group(1)  # e.g. '1.' or '1.2.'\n",
    "        start = match.end()  # position after the matched number and space\n",
    "        \n",
    "        # Collect all words following the number prefix until hitting a non-letter, non-space char\n",
    "        connected_words = []\n",
    "        i = start\n",
    "        while i < length:\n",
    "            c = text[i]\n",
    "            if c.isalpha() or c.isspace():\n",
    "                connected_words.append(c)\n",
    "                i += 1\n",
    "            else:\n",
    "                break\n",
    "        \n",
    "        connected_text = \"\".join(connected_words).strip()\n",
    "        results.append((number_prefix, connected_text))\n",
    "        \n",
    "        pos = i  # continue search after the collected section\n",
    "    \n",
    "    return results\n",
    "\n",
    "extract = extract_numbered_sections(text)\n",
    "print(extract)"
   ]
  },
  {
   "cell_type": "code",
   "execution_count": 42,
   "id": "1d429e39",
   "metadata": {},
   "outputs": [
    {
     "name": "stdout",
     "output_type": "stream",
     "text": [
      "['Technische Angaben', 'Grass6', 'KAB', 'Schraubenverdichteraggregat', 'Actriocreticn Eqciamcii', 'FH-SGC', 'Übersicht', '1.', 'Umgebungsbedingungen', 'Umgebungstemperatur', \"max.40 'C\", \"min.5 'C\", '1. UMGEBUNGSBEDINGUNGEN', '2', 'frei von Flüssigkeitsniederschlägen', '2. PROJEKTIERTE', 'BETRIEBSBEDINGUNGEN', '2', '2. Projektierte', 'Betriebsbedingungen', '3. HOCHSTZULÄSSIGE', 'Sättigungstemperatur', '~5 *C', \"+5 'C\", 'BETRIEBSDRÜCKE', 'Verdichtersaugdruck to', 'Überhitzung im', '10 K', '10 K', '4. EINSTELLWERTE FÜR', 'Verdichtersaugstutzen', 'SICHERHEITSVENTILE', '2', 'Sättigungstemperatur', \"+27 'C\", \"30 'C\", 'Verdichtungsenddruck tK', '5. EINSTELLWERTE DER', 'Aufladung des Verdichters', 'nein', 'nein', 'SICHERHEITSGERÄTE GEGEN', 'UNZULÄSSIGE DRÜCKE', '3.', 'Hochstzulässige Betriebsdrücke', '6. EINSTELLWERTE DER', 'SICHERHEITSGERÄTE GEGEN', 'Kältemittelkreislauf', '23 bar Überdruck', 'UNZULÄSSIGE TEMPERATUREN', '3', 'Ölkreislauf', '23 bar Überdruck', '7. SONSTIGE EINSTELLWERTE VON', 'SCHALTERN UND ARMATUREN', '4. Einstellwerte für Sicherheitsventile', '8. RICHTWERTE BETRIEB DES', 'Sicherheitsventil (3.1)', '23 bar Überdruck', 'VERDICHTERAGGREGATES', 'Ölabscheider DN', '15', 'Überströmventil (1.1)', '20 bar Überdruck', '(von Verdichterdruck-', '9. HAUPTBAUTEILE', 'zur -saugseite) DN', '20', '10. SENSOREN', '4', 'AFDI Sche.', '631726.DOC', 'Seite:', '2', 'von', '(Ausgabel edition', '02.05.96)', 'Revision', '0', 'Page:', 'of', 'KÜHLAUTOMAT Berlin GmbH KAB']\n"
     ]
    }
   ],
   "source": [
    "process_text = separate_on_number(text)\n",
    "print(process_text)"
   ]
  },
  {
   "cell_type": "code",
   "execution_count": 41,
   "id": "44f02fdc",
   "metadata": {},
   "outputs": [
    {
     "name": "stdout",
     "output_type": "stream",
     "text": [
      "1. UMGEBUNGSBEDINGUNGEN\n",
      "2. PROJEKTIERTE\n",
      "2. Projektierte\n",
      "3. HOCHSTZULÄSSIGE\n",
      "4. EINSTELLWERTE FÜR\n",
      "4. Einstellwerte für Sicherheitsventile\n",
      "5. EINSTELLWERTE DER\n",
      "6. EINSTELLWERTE DER\n",
      "7. SONSTIGE EINSTELLWERTE VON\n",
      "8. RICHTWERTE BETRIEB DES\n",
      "9. HAUPTBAUTEILE\n",
      "10. SENSOREN\n"
     ]
    }
   ],
   "source": [
    "sorted_lines = sort_toc_lines(valid_lines)\n",
    "for i in sorted_lines:\n",
    "    print(i)"
   ]
  }
 ],
 "metadata": {
  "kernelspec": {
   "display_name": ".venv",
   "language": "python",
   "name": "python3"
  },
  "language_info": {
   "codemirror_mode": {
    "name": "ipython",
    "version": 3
   },
   "file_extension": ".py",
   "mimetype": "text/x-python",
   "name": "python",
   "nbconvert_exporter": "python",
   "pygments_lexer": "ipython3",
   "version": "3.9.10"
  }
 },
 "nbformat": 4,
 "nbformat_minor": 5
}
