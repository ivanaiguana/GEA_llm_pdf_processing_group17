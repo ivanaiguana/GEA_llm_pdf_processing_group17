{
 "cells": [
  {
   "cell_type": "code",
   "execution_count": 32,
   "id": "1102fb46",
   "metadata": {},
   "outputs": [
    {
     "data": {
      "text/plain": [
       "True"
      ]
     },
     "execution_count": 32,
     "metadata": {},
     "output_type": "execute_result"
    }
   ],
   "source": [
    "#import fitz  \n",
    "#from PIL import Image\n",
    "#import pytesseract\n",
    "import io\n",
    "import re\n",
    "import os\n",
    "#pytesseract.pytesseract.tesseract_cmd = r\"C:\\Program Files\\Tesseract-OCR\\tesseract.exe\"\n",
    "#import easyocr\n",
    "import numpy as np\n",
    "from dotenv import load_dotenv\n",
    "from azure.ai.formrecognizer import DocumentAnalysisClient\n",
    "from azure.core.credentials import AzureKeyCredential\n",
    "from azure.core.exceptions import ClientAuthenticationError, HttpResponseError\n",
    "load_dotenv()\n"
   ]
  },
  {
   "cell_type": "code",
   "execution_count": 35,
   "id": "6ffa13ca",
   "metadata": {},
   "outputs": [
    {
     "ename": "TypeError",
     "evalue": "key must be a string.",
     "output_type": "error",
     "traceback": [
      "\u001b[1;31m---------------------------------------------------------------------------\u001b[0m",
      "\u001b[1;31mTypeError\u001b[0m                                 Traceback (most recent call last)",
      "Cell \u001b[1;32mIn[35], line 7\u001b[0m\n\u001b[0;32m      1\u001b[0m endpoint \u001b[38;5;241m=\u001b[39m os\u001b[38;5;241m.\u001b[39mgetenv(\u001b[38;5;124m\"\u001b[39m\u001b[38;5;124mAZURE_FORM_RECOGNIZER_ENDPOINT\u001b[39m\u001b[38;5;124m\"\u001b[39m)\n\u001b[0;32m      2\u001b[0m key \u001b[38;5;241m=\u001b[39m os\u001b[38;5;241m.\u001b[39mgetenv(\u001b[38;5;124m\"\u001b[39m\u001b[38;5;124mAZURE_FORM_RECOGNIZER_KEY\u001b[39m\u001b[38;5;124m\"\u001b[39m)\n\u001b[0;32m      5\u001b[0m client \u001b[38;5;241m=\u001b[39m DocumentAnalysisClient(\n\u001b[0;32m      6\u001b[0m     endpoint\u001b[38;5;241m=\u001b[39mendpoint,\n\u001b[1;32m----> 7\u001b[0m     credential\u001b[38;5;241m=\u001b[39m\u001b[43mAzureKeyCredential\u001b[49m\u001b[43m(\u001b[49m\u001b[43mkey\u001b[49m\u001b[43m)\u001b[49m\n\u001b[0;32m      8\u001b[0m )\n\u001b[0;32m     11\u001b[0m \u001b[38;5;28;01mwith\u001b[39;00m \u001b[38;5;28mopen\u001b[39m(\u001b[38;5;124m\"\u001b[39m\u001b[38;5;124mResource/Übersicht3.pdf\u001b[39m\u001b[38;5;124m\"\u001b[39m, \u001b[38;5;124m\"\u001b[39m\u001b[38;5;124mrb\u001b[39m\u001b[38;5;124m\"\u001b[39m) \u001b[38;5;28;01mas\u001b[39;00m f:\n\u001b[0;32m     12\u001b[0m     poller \u001b[38;5;241m=\u001b[39m client\u001b[38;5;241m.\u001b[39mbegin_analyze_document(\u001b[38;5;124m\"\u001b[39m\u001b[38;5;124mprebuilt-layout\u001b[39m\u001b[38;5;124m\"\u001b[39m, document\u001b[38;5;241m=\u001b[39mf)\n",
      "File \u001b[1;32mc:\\Users\\j7843\\Documents\\DAIA\\GEA_llm_pdf_processing_group17\\.venv\\lib\\site-packages\\azure\\core\\credentials.py:155\u001b[0m, in \u001b[0;36mAzureKeyCredential.__init__\u001b[1;34m(self, key)\u001b[0m\n\u001b[0;32m    153\u001b[0m \u001b[38;5;28;01mdef\u001b[39;00m\u001b[38;5;250m \u001b[39m\u001b[38;5;21m__init__\u001b[39m(\u001b[38;5;28mself\u001b[39m, key: \u001b[38;5;28mstr\u001b[39m) \u001b[38;5;241m-\u001b[39m\u001b[38;5;241m>\u001b[39m \u001b[38;5;28;01mNone\u001b[39;00m:\n\u001b[0;32m    154\u001b[0m     \u001b[38;5;28;01mif\u001b[39;00m \u001b[38;5;129;01mnot\u001b[39;00m \u001b[38;5;28misinstance\u001b[39m(key, \u001b[38;5;28mstr\u001b[39m):\n\u001b[1;32m--> 155\u001b[0m         \u001b[38;5;28;01mraise\u001b[39;00m \u001b[38;5;167;01mTypeError\u001b[39;00m(\u001b[38;5;124m\"\u001b[39m\u001b[38;5;124mkey must be a string.\u001b[39m\u001b[38;5;124m\"\u001b[39m)\n\u001b[0;32m    156\u001b[0m     \u001b[38;5;28mself\u001b[39m\u001b[38;5;241m.\u001b[39m_key \u001b[38;5;241m=\u001b[39m key\n",
      "\u001b[1;31mTypeError\u001b[0m: key must be a string."
     ]
    }
   ],
   "source": [
    "endpoint = os.getenv(\"AZURE_FORM_RECOGNIZER_ENDPOINT\")\n",
    "key = os.getenv(\"AZURE_FORM_RECOGNIZER_KEY\")\n",
    "\n",
    "\n",
    "client = DocumentAnalysisClient(\n",
    "    endpoint=endpoint,\n",
    "    credential=AzureKeyCredential(key)\n",
    ")\n",
    "\n",
    "\n",
    "with open(\"Resource/Übersicht3.pdf\", \"rb\") as f:\n",
    "    poller = client.begin_analyze_document(\"prebuilt-layout\", document=f)\n",
    "    result = poller.result()\n",
    "\n",
    "for i, page in enumerate(result.pages, start=1):\n",
    "    lines = [line.content for line in page.lines]\n",
    "    page_text = \" \".join(lines)\n",
    "    output_path = f\"Text/page_{i}.txt\"\n",
    "    with open(output_path, \"w\", encoding=\"utf-8\") as out_file:\n",
    "        out_file.write(page_text)\n",
    "\n",
    "    print(f\"✅ Page {i} saved to {output_path}\")\n"
   ]
  },
  {
   "cell_type": "code",
   "execution_count": null,
   "id": "2e814ee4",
   "metadata": {},
   "outputs": [
    {
     "name": "stdout",
     "output_type": "stream",
     "text": [
      "{'4. EINSTELLWERTE FÜR SICHERHEITSVENTILE ', '8. RICHTWERTE BETRIEB DES VERDICHTERAGGREGATES ', '6. EINSTELLWERTE DER SICHERHEITSGERÄTE GEGEN Kältemittelkreislauf ', '6. Einstellwerte der Sicherheitsgeräte gegen unzulässige Temperaturen Pt ', '9. HAUPTBAUTEILE ', '2. Öltemperatur zulässiger Bereich der Öltemperatur ', '9. Hauptbauteile Bezeichnung Typ Verdichter F-', '2. Projektierte Betriebsbedingungen Sättigungstemperatur Verdichtersaugdruck to -', '3. HÖCHSTZULÄSSIGE BETRIEBSDRÜCKE ', '3. Ölfüllung Erstfüllung ca. ', '2. PROJEKTIERTE BETRIEBSBEDINGUNGEN ', '8. Richtwerte Betrieb des Verdichteraggregates Mindestverstellzeit des Regelschlittens von Min- zur Max-Endlage bzw. umgekehrt ', '7. SONSTIGE EINSTELLWERTE VON SCHALTERN UND ARMATUREN ', '4. Hilfs- und Steuerspannungen Magnetventile für ', '5. Einstellwerte der Sicherheitsgeräte gegen unzulässige Drücke Druckschalter (', '3. Höchstzulässige Betriebsdrücke ', '0. SENSOREN ', '1. UMGEBUNGSBEDINGUNGEN ', '5. EINSTELLWERTE DER SICHERHEITSGERÄTE GEGEN UNZULÄSSIGE DRÜCKE ', '1. Umgebungsbedingungen · Umgebungstemperatur max.', '7. Sonstige Einstellwerte von Schaltern und Armaturen Öldruckregelventil (', '1. Einstellwerte für Verdichtungsendtemperatur anzustrebender Wert t '}\n"
     ]
    }
   ],
   "source": [
    "def primera_posicion_espacio(texto):\n",
    "    return texto.find(' ')  # devuelve índice del primer espacio, o -1 si no hay\n",
    "\n",
    "def number_posicion_numero(texto,number):\n",
    "    count = 0\n",
    "    for i, c in enumerate(texto):\n",
    "        if c.isdigit():\n",
    "            count += 1\n",
    "            if count == number:\n",
    "                return i\n",
    "    return -1  # si no hay un segundo número, devuelve -1\n",
    "\n",
    "index = set()\n",
    "texto1 = \"Technische Angaben Schraubenverdichteraggregat FH-5GC Übersicht 1. UMGEBUNGSBEDINGUNGEN 2 2. PROJEKTIERTE BETRIEBSBEDINGUNGEN 2 3. HÖCHSTZULÄSSIGE BETRIEBSDRÜCKE 2 4. EINSTELLWERTE FÜR SICHERHEITSVENTILE 2 5. EINSTELLWERTE DER SICHERHEITSGERÄTE GEGEN UNZULÄSSIGE DRÜCKE 3 6. EINSTELLWERTE DER SICHERHEITSGERÄTE GEGEN Kältemittelkreislauf 23 bar Überdruck UNZULÄSSIGE TEMPERATUREN 3 Ölkreislauf 23 bar Überdruck 7. SONSTIGE EINSTELLWERTE VON SCHALTERN UND ARMATUREN 3 8. RICHTWERTE BETRIEB DES VERDICHTERAGGREGATES 3 9. HAUPTBAUTEILE 10. SENSOREN 4 AFD/ Sche. (Ausgabe/ edition 02.05.96) GRassa KAB Refrigeration Equipment 1. Umgebungsbedingungen · Umgebungstemperatur max.40 ℃ min.5 ℃ · frei von Flüssigkeitsniederschlägen 2. Projektierte Betriebsbedingungen Sättigungstemperatur Verdichtersaugdruck to -5 ℃ +5 ℃ Überhitzung im Verdichtersaugstutzen 10 K 10 K Sättigungstemperatur Verdichtungsenddruck tx +27 °℃ 30 °℃ Aufladung des Verdichters nein nein 3. Höchstzulässige Betriebsdrücke 4. Einstellwerte für Sicherheitsventile Sicherheitsventil (3.1) Ölabscheider DN 15 Überströmventil (1.1) (von Verdichterdruck- zur -saugseite) DN 20 4 23 bar Überdruck 20 bar Überdruck Seite: von Page: of 2 4 631726.DOC Revision 0 KÜHLAUTOMAT Berlin GmbH KAB\"\n",
    "texto2 = \"Technische Angaben Schraubenverdichteraggregat FH-5GC 5. Einstellwerte der Sicherheitsgeräte gegen unzulässige Drücke Druckschalter (15.8) Verdichtungsenddruck Abschaltdruck 15 bar Überdruck Saugdruckschalter (15.7) Abschaltdruck 1,5 bar Überdruck Differenzdruckwächter (15.9) Ölkreislaufüberwachung Abschaltdifferenzdruck ≤ 0,5 bar Differenzdruckwächter (15.10) Ölgrobfilterüberwachung Abschaltdifferenzdruck ≥ 2 bar 6. Einstellwerte der Sicherheitsgeräte gegen unzulässige Temperaturen Pt 100 (17.2) für Verdichtungsendtemperatur Schaltwert 90 °℃ Pt 100 (17.3) für Öltemperatur Schaltwert 60 ℃ Temperaturbegrenzer (3.10) Heizkörpertemperatur Schaltwert 150°℃ Thermostat (3.9) Heizkörpertemperatur Einstellwert 70°C 7. Sonstige Einstellwerte von Schaltern und Armaturen Öldruckregelventil (8.0) 4,5+0,5 bar Absperrventil (18.2) in Gasschwingungsschutzleitung geschlossen AFD/ Sche. (Ausgabe/ edition 02.05.96) GRassaiKAB Refrigeration Equipment 8. Richtwerte Betrieb des Verdichteraggregates Mindestverstellzeit des Regelschlittens von Min- zur Max-Endlage bzw. umgekehrt 30s Anzustrebende Verstellzeit des Regelschlittens von Min- zur Max-Endlage bzw. umgekehrt 60s Bei Anfahrvorgängen und kaltem Öl und bei niedrigen Druckdifferenzen zwischem dem Verdichtungsenddruck und Saugdruck sind die Verstellzeiten höher als bei Betriebsbedingungen. 8.1. Einstellwerte für Verdichtungsendtemperatur anzustrebender Wert t 80°℃ maximaler Wert tmax 90°C 8.2. Öltemperatur zulässiger Bereich der Öltemperatur 35 - 55°C töl anzustrebende Öltemperatur töl 45°℃ 8.3. Ölfüllung Erstfüllung ca. 110 1 8.4. Hilfs- und Steuerspannungen Magnetventile für 230 V,AC Leistungsregelung und Vi.Verst. Überwachungsgeräte, Druck und Temperatur, Füllstand 24 V,DC Wegsensor für Regelschlitten 24 V,DC Ölheizung vom Kraftstromfeld 2 × 440 V, AC 0. 2 × 220 V, AC Seite: 3 von Page: of 4 631726.DOC Revision 0 KÜHLAUTOMAT Berlin GmbH KAB\"\n",
    "texto3 = \"Technische Angaben Schraubenverdichteraggregat FH-5GC 9. Hauptbauteile Bezeichnung Typ Verdichter F-5 Leistungsregelung MV-Block S 25 Antriebsmotor P 200 L, 66 KW Beistellung Kupplung 66 E 60 Dm 60 Ölpumpe LG 0/10 Ölheizung 380-380-1200 (2x440V o. 2×220V) Ölabscheider Dm 508 (3) TÜV Ölkühler 12/1100/35KW Saugfilter 80/100-40.1 Ölfilter FE140×34 / 459 NH3 Steuerung GRENCO B.V. Software GRENCO B.V. AFD/ Sche. (Ausgabe/ edition 02.05.96) Refrigeration Equipment 10.Sensoren Bezeichnung Typ Saugdruckstörung RT 1A Saugdruckregelung AKS 33 Enddruckstörung RT 6AW Enddruck AKS 33 Öldifferenzdruck Ölkreislaufüber- wachung RT 260 A Öldifferenzdruck Filterüberwachung RT 260 A Öldruck nach Ölpumpe AKS 33 Ansaugtemperatur Pt100 Endtemperatur Pt100 Öltemperatur Pt100 Öltemperatur- regelung Pt100 Wegsensor Regelschlitten HDT Motorstrom Wandler und Meßumformer im Schaltschrank 631726.DOC Revision 0 Seite: von Page: of 4 4 KÜHLAUTOMAT Berlin GmbH KAB\"\n",
    "\n",
    "def index_from_text(texto):\n",
    "    while len(texto)>0:\n",
    "        first_position_number = number_posicion_numero(texto,1)\n",
    "        \n",
    "        if texto[first_position_number+1] == \".\" and texto[first_position_number+2] == \" \" and texto[first_position_number + 3].isalpha():\n",
    "            \n",
    "            second_position_number = number_posicion_numero(texto,2)\n",
    "            first_index = texto[first_position_number:second_position_number]\n",
    "            index.add(first_index)\n",
    "            texto = texto[second_position_number+1:]\n",
    "        \n",
    "        # elif texto[first_position_number+1] == \".\" and texto[first_position_number+2].isdigit():\n",
    "        \n",
    "        #     third_position_number = number_posicion_numero(texto,3)\n",
    "        #     first_index = texto[first_position_number:third_position_number]\n",
    "        #     print(first_index)\n",
    "        #     texto = texto[third_position_number+1:]\n",
    "        \n",
    "        else: \n",
    "            texto = texto[first_position_number+1:]\n",
    "            if first_position_number == -1:\n",
    "                break\n",
    "\n",
    "index_from_text(texto1)\n",
    "index_from_text(texto2)\n",
    "index_from_text(texto3)\n",
    "print(index)\n",
    "\n",
    "\n"
   ]
  },
  {
   "cell_type": "code",
   "execution_count": null,
   "id": "4e71b923",
   "metadata": {},
   "outputs": [
    {
     "name": "stdout",
     "output_type": "stream",
     "text": [
      "{'SONSTIGE EINSTELLWERTE VON SCHALTERN UND ARMATUREN', 'RICHTWERTE BETRIEB DES VERDICHTERAGGREGATES', 'Höchstzulässige Betriebsdrücke', 'HÖCHSTZULÄSSIGE BETRIEBSDRÜCKE', 'Projektierte Betriebsbedingungen Sättigungstemperatur Verdichtersaugdruck to -', 'Einstellwerte der Sicherheitsgeräte gegen unzulässige Drücke Druckschalter (', 'EINSTELLWERTE DER SICHERHEITSGERÄTE GEGEN UNZULÄSSIGE DRÜCKE', 'Öltemperatur zulässiger Bereich der Öltemperatur', 'EINSTELLWERTE FÜR SICHERHEITSVENTILE', 'Einstellwerte für Verdichtungsendtemperatur anzustrebender Wert t', 'Hilfs- und Steuerspannungen Magnetventile für', 'Umgebungsbedingungen · Umgebungstemperatur max.', 'Hauptbauteile Bezeichnung Typ Verdichter F-', 'Sonstige Einstellwerte von Schaltern und Armaturen Öldruckregelventil (', 'Ölfüllung Erstfüllung ca.', 'Einstellwerte der Sicherheitsgeräte gegen unzulässige Temperaturen Pt', 'EINSTELLWERTE DER SICHERHEITSGERÄTE GEGEN Kältemittelkreislauf', 'SENSOREN', 'UMGEBUNGSBEDINGUNGEN', 'Richtwerte Betrieb des Verdichteraggregates Mindestverstellzeit des Regelschlittens von Min- zur Max-Endlage bzw. umgekehrt', 'HAUPTBAUTEILE', 'PROJEKTIERTE BETRIEBSBEDINGUNGEN'}\n"
     ]
    }
   ],
   "source": [
    "input_set = index\n",
    "output_set = set()\n",
    "\n",
    "for item in input_set:\n",
    "    # Split on the first space after the dot\n",
    "    parts = item.split(' ', 1)\n",
    "    if len(parts) > 1:\n",
    "        # parts[1] is the rest of the string after the number and dot\n",
    "        cleaned = parts[1].strip()\n",
    "        output_set.add(cleaned)\n",
    "    else:\n",
    "        # fallback if no space found, just add item as is\n",
    "        output_set.add(item.strip())\n",
    "\n",
    "print(output_set)\n"
   ]
  },
  {
   "cell_type": "code",
   "execution_count": 25,
   "id": "7d050b0e",
   "metadata": {},
   "outputs": [],
   "source": [
    "title_dict = {}\n",
    "\n",
    "folder_path = \"Text\"  # your folder name\n",
    "\n",
    "for filename in os.listdir(folder_path):\n",
    "    input_path = os.path.join(folder_path, filename)\n",
    "    with open(input_path, \"r\", encoding=\"utf-8\") as file:\n",
    "        content = file.read()\n",
    "        \n",
    "        #print(f\"Reading file: {filename}\")\n",
    "        for line in content:    \n",
    "            if line in output_set:\n",
    "                if filename not in title_dict:\n",
    "                    title_dict[filename] = []\n",
    "# Add line as a value\n",
    "                title_dict[filename].append(line)"
   ]
  },
  {
   "cell_type": "code",
   "execution_count": 30,
   "id": "4658f849",
   "metadata": {},
   "outputs": [
    {
     "name": "stdout",
     "output_type": "stream",
     "text": [
      "Reading file: page_1.txt\n",
      "Reading file: page_2.txt\n",
      "Reading file: page_3.txt\n"
     ]
    }
   ],
   "source": [
    "title_dict = {}\n",
    "\n",
    "folder_path = \"Text\"  # your folder name\n",
    "\n",
    "for filename in os.listdir(folder_path):\n",
    "\n",
    "    input_path = os.path.join(folder_path, filename)\n",
    "    with open(input_path, \"r\", encoding=\"utf-8\") as file:\n",
    "        content = file.read()\n",
    "        \n",
    "        print(f\"Reading file: {filename}\")\n",
    "        for index in output_set:    \n",
    "            if index in content:\n",
    "                if filename not in title_dict:\n",
    "                    title_dict[filename] = []\n",
    "# Add line as a value\n",
    "                title_dict[filename].append(index)"
   ]
  },
  {
   "cell_type": "code",
   "execution_count": 28,
   "id": "cdd158f9",
   "metadata": {},
   "outputs": [
    {
     "name": "stdout",
     "output_type": "stream",
     "text": [
      "{'page_1.txt': ['Höchstzulässige Betriebsdrücke', 'SENSOREN', 'UMGEBUNGSBEDINGUNGEN', 'HAUPTBAUTEILE']}\n"
     ]
    }
   ],
   "source": [
    "print(title_dict)"
   ]
  },
  {
   "cell_type": "code",
   "execution_count": 4,
   "id": "007e4ee8",
   "metadata": {},
   "outputs": [],
   "source": [
    "from Jiahao.Helper import sort_toc_lines\n",
    "from Jiahao.Helper import separate_on_number\n",
    "#from Jiahao.Helper import extract_toc_pages\n",
    "from Jiahao.Helper import is_valid_toc_line\n"
   ]
  },
  {
   "cell_type": "code",
   "execution_count": 28,
   "id": "913901cf",
   "metadata": {},
   "outputs": [],
   "source": [
    "def extract_toc_pages(pdf_path, lang='deu'):\n",
    "    doc = fitz.open(pdf_path)  # Open PDF file\n",
    "    toc_pages = {}\n",
    "\n",
    "    for page_num in range(len(doc)):\n",
    "        page = doc.load_page(page_num)\n",
    "        pix = page.get_pixmap(dpi=300)\n",
    "        img = Image.open(io.BytesIO(pix.tobytes()))\n",
    "        text = pytesseract.image_to_string(img, lang=lang)\n",
    "         \n",
    "        if \"übersicht\" in text.lower():\n",
    "        #if \"inhaltsverzeichnis\" in text.lower() or \"übersicht\" in text.lower():\n",
    "            return text, img "
   ]
  },
  {
   "cell_type": "code",
   "execution_count": null,
   "id": "b35b6ad3",
   "metadata": {},
   "outputs": [],
   "source": [
    "def extract_toc_pages(pdf_path, lang='de'):\n",
    "    doc = fitz.open(pdf_path)\n",
    "    reader = easyocr.Reader([lang])  # Initialize EasyOCR with German language\n",
    "    toc_pages = {}\n",
    "\n",
    "    for page_num in range(len(doc)):\n",
    "        page = doc.load_page(page_num)\n",
    "        pix = page.get_pixmap(dpi=300)\n",
    "        img = Image.open(io.BytesIO(pix.tobytes()))\n",
    "        \n",
    "        # Convert PIL Image to numpy array for EasyOCR\n",
    "        img_np = np.array(img)\n",
    "        \n",
    "        # Run OCR\n",
    "        result = reader.readtext(img_np, detail=0)  # detail=0 to get only text strings\n",
    "        \n",
    "        full_text = \"\\n\".join(result)\n",
    "        \n",
    "        if \"übersicht\" in full_text.lower():\n",
    "            return full_text\n",
    "\n",
    "    return None, None  # If no TOC page is found\n"
   ]
  },
  {
   "cell_type": "code",
   "execution_count": null,
   "id": "70e71fdd",
   "metadata": {},
   "outputs": [
    {
     "name": "stderr",
     "output_type": "stream",
     "text": [
      "Neither CUDA nor MPS are available - defaulting to CPU. Note: This module is much faster with a GPU.\n",
      "c:\\Users\\j7843\\Documents\\DAIA\\GEA_llm_pdf_processing_group17\\.venv\\Lib\\site-packages\\torch\\utils\\data\\dataloader.py:665: UserWarning: 'pin_memory' argument is set as true but no accelerator is found, then device pinned memory won't be used.\n",
      "  warnings.warn(warn_msg)\n"
     ]
    },
    {
     "name": "stdout",
     "output_type": "stream",
     "text": [
      "Technische Angaben\n",
      "Grass6\n",
      "KAB\n",
      "Schraubenverdichteraggregat\n",
      "Actriocreticn Eqciamcii\n",
      "FH-SGC\n",
      "Übersicht\n",
      "1.\n",
      "Umgebungsbedingungen\n",
      "Umgebungstemperatur\n",
      "max.40 'C\n",
      "min.5 'C\n",
      "1. UMGEBUNGSBEDINGUNGEN\n",
      "2\n",
      "frei von Flüssigkeitsniederschlägen\n",
      "2. PROJEKTIERTE\n",
      "BETRIEBSBEDINGUNGEN\n",
      "2\n",
      "2. Projektierte\n",
      "Betriebsbedingungen\n",
      "3. HOCHSTZULÄSSIGE\n",
      "Sättigungstemperatur\n",
      "~5 *C\n",
      "+5 'C\n",
      "BETRIEBSDRÜCKE\n",
      "Verdichtersaugdruck to\n",
      "Überhitzung im\n",
      "10 K\n",
      "10 K\n",
      "4. EINSTELLWERTE FÜR\n",
      "Verdichtersaugstutzen\n",
      "SICHERHEITSVENTILE\n",
      "2\n",
      "Sättigungstemperatur\n",
      "+27 'C\n",
      "30 'C\n",
      "Verdichtungsenddruck tK\n",
      "5. EINSTELLWERTE DER\n",
      "Aufladung des Verdichters\n",
      "nein\n",
      "nein\n",
      "SICHERHEITSGERÄTE GEGEN\n",
      "UNZULÄSSIGE DRÜCKE\n",
      "3.\n",
      "Hochstzulässige Betriebsdrücke\n",
      "6. EINSTELLWERTE DER\n",
      "SICHERHEITSGERÄTE GEGEN\n",
      "Kältemittelkreislauf\n",
      "23 bar Überdruck\n",
      "UNZULÄSSIGE TEMPERATUREN\n",
      "3\n",
      "Ölkreislauf\n",
      "23 bar Überdruck\n",
      "7. SONSTIGE EINSTELLWERTE VON\n",
      "SCHALTERN UND ARMATUREN\n",
      "4. Einstellwerte für Sicherheitsventile\n",
      "8. RICHTWERTE BETRIEB DES\n",
      "Sicherheitsventil (3.1)\n",
      "23 bar Überdruck\n",
      "VERDICHTERAGGREGATES\n",
      "Ölabscheider DN 15\n",
      "Überströmventil (1.1)\n",
      "20 bar Überdruck\n",
      "(von Verdichterdruck-\n",
      "9. HAUPTBAUTEILE\n",
      "zur -saugseite) DN 20\n",
      "10. SENSOREN\n",
      "4\n",
      "AFDI Sche.\n",
      "631726.DOC\n",
      "Seite:\n",
      "2\n",
      "von\n",
      "(Ausgabel edition 02.05.96)\n",
      "Revision 0\n",
      "Page:\n",
      "of\n",
      "KÜHLAUTOMAT Berlin GmbH KAB\n"
     ]
    }
   ],
   "source": [
    "text= extract_toc_pages(\"Resource/Übersicht3.pdf\")\n",
    "\n",
    "print(text)\n",
    "\n",
    "\n",
    "process_text = separate_on_number(text)\n",
    "print(process_text)\n",
    "\n",
    "\n",
    "valid_lines = [line for line in process_text if is_valid_toc_line(line)]\n",
    "# for i in valid_lines:\n",
    "#     print(i)\n",
    "\n",
    "sorted_lines = sort_toc_lines(valid_lines)\n",
    "# for i in sorted_lines:\n",
    "#     print(i)\n",
    "\n"
   ]
  },
  {
   "cell_type": "code",
   "execution_count": 43,
   "id": "3151a059",
   "metadata": {},
   "outputs": [
    {
     "name": "stdout",
     "output_type": "stream",
     "text": [
      "[('1.', 'Umgebungsbedingungen\\nUmgebungstemperatur\\nmax'), ('1.', 'UMGEBUNGSBEDINGUNGEN'), ('2.', 'PROJEKTIERTE\\nBETRIEBSBEDINGUNGEN'), ('2.', 'Projektierte\\nBetriebsbedingungen'), ('3.', 'HOCHSTZULÄSSIGE\\nSättigungstemperatur'), ('4.', 'EINSTELLWERTE FÜR\\nVerdichtersaugstutzen\\nSICHERHEITSVENTILE'), ('5.', 'EINSTELLWERTE DER\\nAufladung des Verdichters\\nnein\\nnein\\nSICHERHEITSGERÄTE GEGEN\\nUNZULÄSSIGE DRÜCKE'), ('3.', 'Hochstzulässige Betriebsdrücke'), ('6.', 'EINSTELLWERTE DER\\nSICHERHEITSGERÄTE GEGEN\\nKältemittelkreislauf'), ('7.', 'SONSTIGE EINSTELLWERTE VON\\nSCHALTERN UND ARMATUREN'), ('4.', 'Einstellwerte für Sicherheitsventile'), ('8.', 'RICHTWERTE BETRIEB DES\\nSicherheitsventil'), ('9.', 'HAUPTBAUTEILE\\nzur'), ('10.', 'SENSOREN')]\n"
     ]
    }
   ],
   "source": [
    "import re\n",
    "\n",
    "def extract_numbered_sections(text):\n",
    "    \"\"\"\n",
    "    Extract sections starting with numbers followed by dots and connect them to the following words\n",
    "    until a non-letter/non-space character is found.\n",
    "\n",
    "    Args:\n",
    "        text (str): The full OCR text string.\n",
    "\n",
    "    Returns:\n",
    "        list of tuples: Each tuple is (number_prefix, connected_text)\n",
    "    \"\"\"\n",
    "    pattern = re.compile(r\"(\\d+(?:\\.\\d+)*\\.)\\s\")  # Match number-dot with a space after it\n",
    "    \n",
    "    results = []\n",
    "    pos = 0\n",
    "    length = len(text)\n",
    "    \n",
    "    while pos < length:\n",
    "        match = pattern.search(text, pos)\n",
    "        if not match:\n",
    "            break\n",
    "        \n",
    "        number_prefix = match.group(1)  # e.g. '1.' or '1.2.'\n",
    "        start = match.end()  # position after the matched number and space\n",
    "        \n",
    "        # Collect all words following the number prefix until hitting a non-letter, non-space char\n",
    "        connected_words = []\n",
    "        i = start\n",
    "        while i < length:\n",
    "            c = text[i]\n",
    "            if c.isalpha() or c.isspace():\n",
    "                connected_words.append(c)\n",
    "                i += 1\n",
    "            else:\n",
    "                break\n",
    "        \n",
    "        connected_text = \"\".join(connected_words).strip()\n",
    "        results.append((number_prefix, connected_text))\n",
    "        \n",
    "        pos = i  # continue search after the collected section\n",
    "    \n",
    "    return results\n",
    "\n",
    "extract = extract_numbered_sections(text)\n",
    "print(extract)"
   ]
  },
  {
   "cell_type": "code",
   "execution_count": 42,
   "id": "1d429e39",
   "metadata": {},
   "outputs": [
    {
     "name": "stdout",
     "output_type": "stream",
     "text": [
      "['Technische Angaben', 'Grass6', 'KAB', 'Schraubenverdichteraggregat', 'Actriocreticn Eqciamcii', 'FH-SGC', 'Übersicht', '1.', 'Umgebungsbedingungen', 'Umgebungstemperatur', \"max.40 'C\", \"min.5 'C\", '1. UMGEBUNGSBEDINGUNGEN', '2', 'frei von Flüssigkeitsniederschlägen', '2. PROJEKTIERTE', 'BETRIEBSBEDINGUNGEN', '2', '2. Projektierte', 'Betriebsbedingungen', '3. HOCHSTZULÄSSIGE', 'Sättigungstemperatur', '~5 *C', \"+5 'C\", 'BETRIEBSDRÜCKE', 'Verdichtersaugdruck to', 'Überhitzung im', '10 K', '10 K', '4. EINSTELLWERTE FÜR', 'Verdichtersaugstutzen', 'SICHERHEITSVENTILE', '2', 'Sättigungstemperatur', \"+27 'C\", \"30 'C\", 'Verdichtungsenddruck tK', '5. EINSTELLWERTE DER', 'Aufladung des Verdichters', 'nein', 'nein', 'SICHERHEITSGERÄTE GEGEN', 'UNZULÄSSIGE DRÜCKE', '3.', 'Hochstzulässige Betriebsdrücke', '6. EINSTELLWERTE DER', 'SICHERHEITSGERÄTE GEGEN', 'Kältemittelkreislauf', '23 bar Überdruck', 'UNZULÄSSIGE TEMPERATUREN', '3', 'Ölkreislauf', '23 bar Überdruck', '7. SONSTIGE EINSTELLWERTE VON', 'SCHALTERN UND ARMATUREN', '4. Einstellwerte für Sicherheitsventile', '8. RICHTWERTE BETRIEB DES', 'Sicherheitsventil (3.1)', '23 bar Überdruck', 'VERDICHTERAGGREGATES', 'Ölabscheider DN', '15', 'Überströmventil (1.1)', '20 bar Überdruck', '(von Verdichterdruck-', '9. HAUPTBAUTEILE', 'zur -saugseite) DN', '20', '10. SENSOREN', '4', 'AFDI Sche.', '631726.DOC', 'Seite:', '2', 'von', '(Ausgabel edition', '02.05.96)', 'Revision', '0', 'Page:', 'of', 'KÜHLAUTOMAT Berlin GmbH KAB']\n"
     ]
    }
   ],
   "source": [
    "process_text = separate_on_number(text)\n",
    "print(process_text)"
   ]
  },
  {
   "cell_type": "code",
   "execution_count": 41,
   "id": "44f02fdc",
   "metadata": {},
   "outputs": [
    {
     "name": "stdout",
     "output_type": "stream",
     "text": [
      "1. UMGEBUNGSBEDINGUNGEN\n",
      "2. PROJEKTIERTE\n",
      "2. Projektierte\n",
      "3. HOCHSTZULÄSSIGE\n",
      "4. EINSTELLWERTE FÜR\n",
      "4. Einstellwerte für Sicherheitsventile\n",
      "5. EINSTELLWERTE DER\n",
      "6. EINSTELLWERTE DER\n",
      "7. SONSTIGE EINSTELLWERTE VON\n",
      "8. RICHTWERTE BETRIEB DES\n",
      "9. HAUPTBAUTEILE\n",
      "10. SENSOREN\n"
     ]
    }
   ],
   "source": [
    "sorted_lines = sort_toc_lines(valid_lines)\n",
    "for i in sorted_lines:\n",
    "    print(i)"
   ]
  }
 ],
 "metadata": {
  "kernelspec": {
   "display_name": ".venv",
   "language": "python",
   "name": "python3"
  },
  "language_info": {
   "codemirror_mode": {
    "name": "ipython",
    "version": 3
   },
   "file_extension": ".py",
   "mimetype": "text/x-python",
   "name": "python",
   "nbconvert_exporter": "python",
   "pygments_lexer": "ipython3",
   "version": "3.9.10"
  }
 },
 "nbformat": 4,
 "nbformat_minor": 5
}
