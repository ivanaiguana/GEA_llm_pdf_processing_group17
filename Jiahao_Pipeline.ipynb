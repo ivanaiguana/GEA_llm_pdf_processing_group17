{
 "cells": [
  {
   "cell_type": "code",
   "execution_count": null,
   "id": "1102fb46",
   "metadata": {},
   "outputs": [],
   "source": [
    "import fitz  \n",
    "from PIL import Image\n",
    "import pytesseract\n",
    "import io\n",
    "import re\n",
    "pytesseract.pytesseract.tesseract_cmd = r\"C:\\Program Files\\Tesseract-OCR\\tesseract.exe\"\n",
    "import easyocr\n",
    "import numpy as np\n",
    "from azure.ai.formrecognizer import DocumentAnalysisClient\n",
    "from azure.core.credentials import AzureKeyCredential\n",
    "endpoint = \"https://<your-resource-name>.cognitiveservices.azure.com/\"\n",
    "key = \"<your-key>\"\n",
    "\n",
    "client = DocumentAnalysisClient(\n",
    "    endpoint=endpoint,\n",
    "    credential=AzureKeyCredential(key)\n",
    ")\n",
    "\n",
    "with open(\"document.pdf\", \"rb\") as f:\n",
    "    poller = client.begin_analyze_document(\"prebuilt-layout\", document=f)\n",
    "    result = poller.result()\n",
    "\n",
    "for page in result.pages:\n",
    "    for line in page.lines:\n",
    "        print(line.content)"
   ]
  },
  {
   "cell_type": "code",
   "execution_count": 10,
   "id": "007e4ee8",
   "metadata": {},
   "outputs": [],
   "source": [
    "from Jiahao.Helper import sort_toc_lines\n",
    "from Jiahao.Helper import separate_on_number\n",
    "from Jiahao.Helper import extract_toc_pages\n",
    "from Jiahao.Helper import is_valid_toc_line\n"
   ]
  },
  {
   "cell_type": "code",
   "execution_count": 28,
   "id": "913901cf",
   "metadata": {},
   "outputs": [],
   "source": [
    "def extract_toc_pages(pdf_path, lang='deu'):\n",
    "    doc = fitz.open(pdf_path)  # Open PDF file\n",
    "    toc_pages = {}\n",
    "\n",
    "    for page_num in range(len(doc)):\n",
    "        page = doc.load_page(page_num)\n",
    "        pix = page.get_pixmap(dpi=300)\n",
    "        img = Image.open(io.BytesIO(pix.tobytes()))\n",
    "        text = pytesseract.image_to_string(img, lang=lang)\n",
    "         \n",
    "        if \"übersicht\" in text.lower():\n",
    "        #if \"inhaltsverzeichnis\" in text.lower() or \"übersicht\" in text.lower():\n",
    "            return text, img "
   ]
  },
  {
   "cell_type": "code",
   "execution_count": null,
   "id": "b35b6ad3",
   "metadata": {},
   "outputs": [],
   "source": [
    "def extract_toc_pages(pdf_path, lang='de'):\n",
    "    doc = fitz.open(pdf_path)\n",
    "    reader = easyocr.Reader([lang])  # Initialize EasyOCR with German language\n",
    "    toc_pages = {}\n",
    "\n",
    "    for page_num in range(len(doc)):\n",
    "        page = doc.load_page(page_num)\n",
    "        pix = page.get_pixmap(dpi=300)\n",
    "        img = Image.open(io.BytesIO(pix.tobytes()))\n",
    "        \n",
    "        # Convert PIL Image to numpy array for EasyOCR\n",
    "        img_np = np.array(img)\n",
    "        \n",
    "        # Run OCR\n",
    "        result = reader.readtext(img_np, detail=0)  # detail=0 to get only text strings\n",
    "        \n",
    "        full_text = \"\\n\".join(result)\n",
    "        \n",
    "        if \"übersicht\" in full_text.lower():\n",
    "            return full_text\n",
    "\n",
    "    return None, None  # If no TOC page is found\n"
   ]
  },
  {
   "cell_type": "code",
   "execution_count": null,
   "id": "70e71fdd",
   "metadata": {},
   "outputs": [
    {
     "name": "stderr",
     "output_type": "stream",
     "text": [
      "Neither CUDA nor MPS are available - defaulting to CPU. Note: This module is much faster with a GPU.\n",
      "c:\\Users\\j7843\\Documents\\DAIA\\GEA_llm_pdf_processing_group17\\.venv\\Lib\\site-packages\\torch\\utils\\data\\dataloader.py:665: UserWarning: 'pin_memory' argument is set as true but no accelerator is found, then device pinned memory won't be used.\n",
      "  warnings.warn(warn_msg)\n"
     ]
    },
    {
     "name": "stdout",
     "output_type": "stream",
     "text": [
      "Technische Angaben\n",
      "Grass6\n",
      "KAB\n",
      "Schraubenverdichteraggregat\n",
      "Actriocreticn Eqciamcii\n",
      "FH-SGC\n",
      "Übersicht\n",
      "1.\n",
      "Umgebungsbedingungen\n",
      "Umgebungstemperatur\n",
      "max.40 'C\n",
      "min.5 'C\n",
      "1. UMGEBUNGSBEDINGUNGEN\n",
      "2\n",
      "frei von Flüssigkeitsniederschlägen\n",
      "2. PROJEKTIERTE\n",
      "BETRIEBSBEDINGUNGEN\n",
      "2\n",
      "2. Projektierte\n",
      "Betriebsbedingungen\n",
      "3. HOCHSTZULÄSSIGE\n",
      "Sättigungstemperatur\n",
      "~5 *C\n",
      "+5 'C\n",
      "BETRIEBSDRÜCKE\n",
      "Verdichtersaugdruck to\n",
      "Überhitzung im\n",
      "10 K\n",
      "10 K\n",
      "4. EINSTELLWERTE FÜR\n",
      "Verdichtersaugstutzen\n",
      "SICHERHEITSVENTILE\n",
      "2\n",
      "Sättigungstemperatur\n",
      "+27 'C\n",
      "30 'C\n",
      "Verdichtungsenddruck tK\n",
      "5. EINSTELLWERTE DER\n",
      "Aufladung des Verdichters\n",
      "nein\n",
      "nein\n",
      "SICHERHEITSGERÄTE GEGEN\n",
      "UNZULÄSSIGE DRÜCKE\n",
      "3.\n",
      "Hochstzulässige Betriebsdrücke\n",
      "6. EINSTELLWERTE DER\n",
      "SICHERHEITSGERÄTE GEGEN\n",
      "Kältemittelkreislauf\n",
      "23 bar Überdruck\n",
      "UNZULÄSSIGE TEMPERATUREN\n",
      "3\n",
      "Ölkreislauf\n",
      "23 bar Überdruck\n",
      "7. SONSTIGE EINSTELLWERTE VON\n",
      "SCHALTERN UND ARMATUREN\n",
      "4. Einstellwerte für Sicherheitsventile\n",
      "8. RICHTWERTE BETRIEB DES\n",
      "Sicherheitsventil (3.1)\n",
      "23 bar Überdruck\n",
      "VERDICHTERAGGREGATES\n",
      "Ölabscheider DN 15\n",
      "Überströmventil (1.1)\n",
      "20 bar Überdruck\n",
      "(von Verdichterdruck-\n",
      "9. HAUPTBAUTEILE\n",
      "zur -saugseite) DN 20\n",
      "10. SENSOREN\n",
      "4\n",
      "AFDI Sche.\n",
      "631726.DOC\n",
      "Seite:\n",
      "2\n",
      "von\n",
      "(Ausgabel edition 02.05.96)\n",
      "Revision 0\n",
      "Page:\n",
      "of\n",
      "KÜHLAUTOMAT Berlin GmbH KAB\n"
     ]
    }
   ],
   "source": [
    "text= extract_toc_pages(\"Resource/Übersicht3.pdf\")\n",
    "\n",
    "print(text)\n",
    "\n",
    "\n",
    "process_text = separate_on_number(text)\n",
    "print(process_text)\n",
    "\n",
    "\n",
    "valid_lines = [line for line in process_text if is_valid_toc_line(line)]\n",
    "# for i in valid_lines:\n",
    "#     print(i)\n",
    "\n",
    "sorted_lines = sort_toc_lines(valid_lines)\n",
    "# for i in sorted_lines:\n",
    "#     print(i)\n",
    "\n"
   ]
  },
  {
   "cell_type": "code",
   "execution_count": 43,
   "id": "3151a059",
   "metadata": {},
   "outputs": [
    {
     "name": "stdout",
     "output_type": "stream",
     "text": [
      "[('1.', 'Umgebungsbedingungen\\nUmgebungstemperatur\\nmax'), ('1.', 'UMGEBUNGSBEDINGUNGEN'), ('2.', 'PROJEKTIERTE\\nBETRIEBSBEDINGUNGEN'), ('2.', 'Projektierte\\nBetriebsbedingungen'), ('3.', 'HOCHSTZULÄSSIGE\\nSättigungstemperatur'), ('4.', 'EINSTELLWERTE FÜR\\nVerdichtersaugstutzen\\nSICHERHEITSVENTILE'), ('5.', 'EINSTELLWERTE DER\\nAufladung des Verdichters\\nnein\\nnein\\nSICHERHEITSGERÄTE GEGEN\\nUNZULÄSSIGE DRÜCKE'), ('3.', 'Hochstzulässige Betriebsdrücke'), ('6.', 'EINSTELLWERTE DER\\nSICHERHEITSGERÄTE GEGEN\\nKältemittelkreislauf'), ('7.', 'SONSTIGE EINSTELLWERTE VON\\nSCHALTERN UND ARMATUREN'), ('4.', 'Einstellwerte für Sicherheitsventile'), ('8.', 'RICHTWERTE BETRIEB DES\\nSicherheitsventil'), ('9.', 'HAUPTBAUTEILE\\nzur'), ('10.', 'SENSOREN')]\n"
     ]
    }
   ],
   "source": [
    "import re\n",
    "\n",
    "def extract_numbered_sections(text):\n",
    "    \"\"\"\n",
    "    Extract sections starting with numbers followed by dots and connect them to the following words\n",
    "    until a non-letter/non-space character is found.\n",
    "\n",
    "    Args:\n",
    "        text (str): The full OCR text string.\n",
    "\n",
    "    Returns:\n",
    "        list of tuples: Each tuple is (number_prefix, connected_text)\n",
    "    \"\"\"\n",
    "    pattern = re.compile(r\"(\\d+(?:\\.\\d+)*\\.)\\s\")  # Match number-dot with a space after it\n",
    "    \n",
    "    results = []\n",
    "    pos = 0\n",
    "    length = len(text)\n",
    "    \n",
    "    while pos < length:\n",
    "        match = pattern.search(text, pos)\n",
    "        if not match:\n",
    "            break\n",
    "        \n",
    "        number_prefix = match.group(1)  # e.g. '1.' or '1.2.'\n",
    "        start = match.end()  # position after the matched number and space\n",
    "        \n",
    "        # Collect all words following the number prefix until hitting a non-letter, non-space char\n",
    "        connected_words = []\n",
    "        i = start\n",
    "        while i < length:\n",
    "            c = text[i]\n",
    "            if c.isalpha() or c.isspace():\n",
    "                connected_words.append(c)\n",
    "                i += 1\n",
    "            else:\n",
    "                break\n",
    "        \n",
    "        connected_text = \"\".join(connected_words).strip()\n",
    "        results.append((number_prefix, connected_text))\n",
    "        \n",
    "        pos = i  # continue search after the collected section\n",
    "    \n",
    "    return results\n",
    "\n",
    "extract = extract_numbered_sections(text)\n",
    "print(extract)"
   ]
  },
  {
   "cell_type": "code",
   "execution_count": 42,
   "id": "1d429e39",
   "metadata": {},
   "outputs": [
    {
     "name": "stdout",
     "output_type": "stream",
     "text": [
      "['Technische Angaben', 'Grass6', 'KAB', 'Schraubenverdichteraggregat', 'Actriocreticn Eqciamcii', 'FH-SGC', 'Übersicht', '1.', 'Umgebungsbedingungen', 'Umgebungstemperatur', \"max.40 'C\", \"min.5 'C\", '1. UMGEBUNGSBEDINGUNGEN', '2', 'frei von Flüssigkeitsniederschlägen', '2. PROJEKTIERTE', 'BETRIEBSBEDINGUNGEN', '2', '2. Projektierte', 'Betriebsbedingungen', '3. HOCHSTZULÄSSIGE', 'Sättigungstemperatur', '~5 *C', \"+5 'C\", 'BETRIEBSDRÜCKE', 'Verdichtersaugdruck to', 'Überhitzung im', '10 K', '10 K', '4. EINSTELLWERTE FÜR', 'Verdichtersaugstutzen', 'SICHERHEITSVENTILE', '2', 'Sättigungstemperatur', \"+27 'C\", \"30 'C\", 'Verdichtungsenddruck tK', '5. EINSTELLWERTE DER', 'Aufladung des Verdichters', 'nein', 'nein', 'SICHERHEITSGERÄTE GEGEN', 'UNZULÄSSIGE DRÜCKE', '3.', 'Hochstzulässige Betriebsdrücke', '6. EINSTELLWERTE DER', 'SICHERHEITSGERÄTE GEGEN', 'Kältemittelkreislauf', '23 bar Überdruck', 'UNZULÄSSIGE TEMPERATUREN', '3', 'Ölkreislauf', '23 bar Überdruck', '7. SONSTIGE EINSTELLWERTE VON', 'SCHALTERN UND ARMATUREN', '4. Einstellwerte für Sicherheitsventile', '8. RICHTWERTE BETRIEB DES', 'Sicherheitsventil (3.1)', '23 bar Überdruck', 'VERDICHTERAGGREGATES', 'Ölabscheider DN', '15', 'Überströmventil (1.1)', '20 bar Überdruck', '(von Verdichterdruck-', '9. HAUPTBAUTEILE', 'zur -saugseite) DN', '20', '10. SENSOREN', '4', 'AFDI Sche.', '631726.DOC', 'Seite:', '2', 'von', '(Ausgabel edition', '02.05.96)', 'Revision', '0', 'Page:', 'of', 'KÜHLAUTOMAT Berlin GmbH KAB']\n"
     ]
    }
   ],
   "source": [
    "process_text = separate_on_number(text)\n",
    "print(process_text)"
   ]
  },
  {
   "cell_type": "code",
   "execution_count": 41,
   "id": "44f02fdc",
   "metadata": {},
   "outputs": [
    {
     "name": "stdout",
     "output_type": "stream",
     "text": [
      "1. UMGEBUNGSBEDINGUNGEN\n",
      "2. PROJEKTIERTE\n",
      "2. Projektierte\n",
      "3. HOCHSTZULÄSSIGE\n",
      "4. EINSTELLWERTE FÜR\n",
      "4. Einstellwerte für Sicherheitsventile\n",
      "5. EINSTELLWERTE DER\n",
      "6. EINSTELLWERTE DER\n",
      "7. SONSTIGE EINSTELLWERTE VON\n",
      "8. RICHTWERTE BETRIEB DES\n",
      "9. HAUPTBAUTEILE\n",
      "10. SENSOREN\n"
     ]
    }
   ],
   "source": [
    "sorted_lines = sort_toc_lines(valid_lines)\n",
    "for i in sorted_lines:\n",
    "    print(i)"
   ]
  }
 ],
 "metadata": {
  "kernelspec": {
   "display_name": ".venv",
   "language": "python",
   "name": "python3"
  },
  "language_info": {
   "codemirror_mode": {
    "name": "ipython",
    "version": 3
   },
   "file_extension": ".py",
   "mimetype": "text/x-python",
   "name": "python",
   "nbconvert_exporter": "python",
   "pygments_lexer": "ipython3",
   "version": "3.12.7"
  }
 },
 "nbformat": 4,
 "nbformat_minor": 5
}
